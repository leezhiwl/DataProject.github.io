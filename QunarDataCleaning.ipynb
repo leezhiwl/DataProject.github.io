{
 "cells": [
  {
   "cell_type": "markdown",
   "metadata": {
    "toc": true
   },
   "source": [
    "<h1>去哪儿网数据清洗<span class=\"tocSkip\"></span></h1>\n",
    "<div class=\"toc\"><ul class=\"toc-item\"><li><span><a href=\"#数据预览\" data-toc-modified-id=\"数据预览-1\"><span class=\"toc-item-num\">1&nbsp;&nbsp;</span>数据预览</a></span><ul class=\"toc-item\"><li><span><a href=\"#数据导入和概览\" data-toc-modified-id=\"数据导入和概览-1.1\"><span class=\"toc-item-num\">1.1&nbsp;&nbsp;</span>数据导入和概览</a></span><ul class=\"toc-item\"><li><span><a href=\"#加载数据分析需要使用的科学计算库\" data-toc-modified-id=\"加载数据分析需要使用的科学计算库-1.1.1\"><span class=\"toc-item-num\">1.1.1&nbsp;&nbsp;</span>加载数据分析需要使用的科学计算库</a></span></li><li><span><a href=\"#读取文件\" data-toc-modified-id=\"读取文件-1.1.2\"><span class=\"toc-item-num\">1.1.2&nbsp;&nbsp;</span>读取文件</a></span></li><li><span><a href=\"#查看一下行列数量\" data-toc-modified-id=\"查看一下行列数量-1.1.3\"><span class=\"toc-item-num\">1.1.3&nbsp;&nbsp;</span>查看一下行列数量</a></span></li><li><span><a href=\"#简单浏览下数据\" data-toc-modified-id=\"简单浏览下数据-1.1.4\"><span class=\"toc-item-num\">1.1.4&nbsp;&nbsp;</span>简单浏览下数据</a></span></li><li><span><a href=\"#看下数据的大概分布\" data-toc-modified-id=\"看下数据的大概分布-1.1.5\"><span class=\"toc-item-num\">1.1.5&nbsp;&nbsp;</span>看下数据的大概分布</a></span></li><li><span><a href=\"#describe(-)展示一些基本信息\" data-toc-modified-id=\"describe(-)展示一些基本信息-1.1.6\"><span class=\"toc-item-num\">1.1.6&nbsp;&nbsp;</span>describe( )展示一些基本信息</a></span></li><li><span><a href=\"#查看有没有重复值\" data-toc-modified-id=\"查看有没有重复值-1.1.7\"><span class=\"toc-item-num\">1.1.7&nbsp;&nbsp;</span>查看有没有重复值</a></span></li><li><span><a href=\"#看看列名\" data-toc-modified-id=\"看看列名-1.1.8\"><span class=\"toc-item-num\">1.1.8&nbsp;&nbsp;</span>看看列名</a></span></li></ul></li></ul></li><li><span><a href=\"#数据清洗\" data-toc-modified-id=\"数据清洗-2\"><span class=\"toc-item-num\">2&nbsp;&nbsp;</span>数据清洗</a></span><ul class=\"toc-item\"><li><span><a href=\"#“列名”清洗\" data-toc-modified-id=\"“列名”清洗-2.1\"><span class=\"toc-item-num\">2.1&nbsp;&nbsp;</span>“列名”清洗</a></span></li><li><span><a href=\"#重复值处理\" data-toc-modified-id=\"重复值处理-2.2\"><span class=\"toc-item-num\">2.2&nbsp;&nbsp;</span>重复值处理</a></span><ul class=\"toc-item\"><li><span><a href=\"#判断重复行\" data-toc-modified-id=\"判断重复行-2.2.1\"><span class=\"toc-item-num\">2.2.1&nbsp;&nbsp;</span>判断重复行</a></span></li><li><span><a href=\"#重复行清洗\" data-toc-modified-id=\"重复行清洗-2.2.2\"><span class=\"toc-item-num\">2.2.2&nbsp;&nbsp;</span>重复行清洗</a></span></li></ul></li><li><span><a href=\"#异常值处理\" data-toc-modified-id=\"异常值处理-2.3\"><span class=\"toc-item-num\">2.3&nbsp;&nbsp;</span>异常值处理</a></span><ul class=\"toc-item\"><li><span><a href=\"#异常值列概览\" data-toc-modified-id=\"异常值列概览-2.3.1\"><span class=\"toc-item-num\">2.3.1&nbsp;&nbsp;</span>异常值列概览</a></span></li><li><span><a href=\"#“价格”异常值清洗\" data-toc-modified-id=\"“价格”异常值清洗-2.3.2\"><span class=\"toc-item-num\">2.3.2&nbsp;&nbsp;</span>“价格”异常值清洗</a></span></li><li><span><a href=\"#“节省”异常值清洗\" data-toc-modified-id=\"“节省”异常值清洗-2.3.3\"><span class=\"toc-item-num\">2.3.3&nbsp;&nbsp;</span>“节省”异常值清洗</a></span></li><li><span><a href=\"#检验删除异常值后的数据基本特征\" data-toc-modified-id=\"检验删除异常值后的数据基本特征-2.3.4\"><span class=\"toc-item-num\">2.3.4&nbsp;&nbsp;</span>检验删除异常值后的数据基本特征</a></span></li></ul></li><li><span><a href=\"#缺失值处理\" data-toc-modified-id=\"缺失值处理-2.4\"><span class=\"toc-item-num\">2.4&nbsp;&nbsp;</span>缺失值处理</a></span><ul class=\"toc-item\"><li><span><a href=\"#查看缺失值情况\" data-toc-modified-id=\"查看缺失值情况-2.4.1\"><span class=\"toc-item-num\">2.4.1&nbsp;&nbsp;</span>查看缺失值情况</a></span></li><li><span><a href=\"#“出发地”缺失值处理\" data-toc-modified-id=\"“出发地”缺失值处理-2.4.2\"><span class=\"toc-item-num\">2.4.2&nbsp;&nbsp;</span>“出发地”缺失值处理</a></span></li><li><span><a href=\"#“目的地”缺失值处理\" data-toc-modified-id=\"“目的地”缺失值处理-2.4.3\"><span class=\"toc-item-num\">2.4.3&nbsp;&nbsp;</span>“目的地”缺失值处理</a></span></li><li><span><a href=\"#“价格”和“节省”缺失值处理\" data-toc-modified-id=\"“价格”和“节省”缺失值处理-2.4.4\"><span class=\"toc-item-num\">2.4.4&nbsp;&nbsp;</span>“价格”和“节省”缺失值处理</a></span></li><li><span><a href=\"#检验缺失值处理完成情况\" data-toc-modified-id=\"检验缺失值处理完成情况-2.4.5\"><span class=\"toc-item-num\">2.4.5&nbsp;&nbsp;</span>检验缺失值处理完成情况</a></span></li></ul></li><li><span><a href=\"#文本型数据的处理\" data-toc-modified-id=\"文本型数据的处理-2.5\"><span class=\"toc-item-num\">2.5&nbsp;&nbsp;</span>文本型数据的处理</a></span></li></ul></li></ul></div>"
   ]
  },
  {
   "cell_type": "markdown",
   "metadata": {},
   "source": [
    "# 数据预览"
   ]
  },
  {
   "cell_type": "markdown",
   "metadata": {},
   "source": [
    "## 数据导入和概览"
   ]
  },
  {
   "cell_type": "markdown",
   "metadata": {},
   "source": [
    "### 加载数据分析需要使用的科学计算库"
   ]
  },
  {
   "cell_type": "code",
   "execution_count": 1,
   "metadata": {},
   "outputs": [],
   "source": [
    "# 忽略warning错误\n",
    "import warnings  \n",
    "warnings.filterwarnings(\"ignore\")  "
   ]
  },
  {
   "cell_type": "code",
   "execution_count": 2,
   "metadata": {},
   "outputs": [],
   "source": [
    "import pandas as pd \n",
    "import matplotlib.pyplot as plt \n",
    "import seaborn as sns \n",
    "\n",
    "plt.style.use('fivethirtyeight')\n",
    "sns.set_style({'font.sans-serif':['simhei','Arial']})\n",
    "%matplotlib inline"
   ]
  },
  {
   "cell_type": "markdown",
   "metadata": {},
   "source": [
    "### 读取文件"
   ]
  },
  {
   "cell_type": "code",
   "execution_count": 3,
   "metadata": {},
   "outputs": [],
   "source": [
    "df = pd.read_csv('./qunar_freetrip.csv',index_col=0)"
   ]
  },
  {
   "cell_type": "markdown",
   "metadata": {},
   "source": [
    "### 查看一下行列数量"
   ]
  },
  {
   "cell_type": "code",
   "execution_count": 4,
   "metadata": {
    "scrolled": true
   },
   "outputs": [
    {
     "data": {
      "text/plain": [
       "(5100, 13)"
      ]
     },
     "execution_count": 4,
     "metadata": {},
     "output_type": "execute_result"
    }
   ],
   "source": [
    "df.shape"
   ]
  },
  {
   "cell_type": "markdown",
   "metadata": {},
   "source": [
    "### 简单浏览下数据"
   ]
  },
  {
   "cell_type": "code",
   "execution_count": 5,
   "metadata": {
    "scrolled": true
   },
   "outputs": [
    {
     "data": {
      "text/html": [
       "<div>\n",
       "<style scoped>\n",
       "    .dataframe tbody tr th:only-of-type {\n",
       "        vertical-align: middle;\n",
       "    }\n",
       "\n",
       "    .dataframe tbody tr th {\n",
       "        vertical-align: top;\n",
       "    }\n",
       "\n",
       "    .dataframe thead th {\n",
       "        text-align: right;\n",
       "    }\n",
       "</style>\n",
       "<table border=\"1\" class=\"dataframe\">\n",
       "  <thead>\n",
       "    <tr style=\"text-align: right;\">\n",
       "      <th></th>\n",
       "      <th>出发地</th>\n",
       "      <th>目的地</th>\n",
       "      <th>价格</th>\n",
       "      <th>节省</th>\n",
       "      <th>路线名</th>\n",
       "      <th>酒店</th>\n",
       "      <th>房间</th>\n",
       "      <th>去程航司</th>\n",
       "      <th>去程方式</th>\n",
       "      <th>去程时间</th>\n",
       "      <th>回程航司</th>\n",
       "      <th>回程方式</th>\n",
       "      <th>回程时间</th>\n",
       "    </tr>\n",
       "  </thead>\n",
       "  <tbody>\n",
       "    <tr>\n",
       "      <th>0</th>\n",
       "      <td>哈尔滨</td>\n",
       "      <td>北海</td>\n",
       "      <td>2208.0</td>\n",
       "      <td>650.0</td>\n",
       "      <td>哈尔滨-北海3天2晚 | 入住北海祥丰嘉年华大酒店 + 春秋航空往返机票</td>\n",
       "      <td>北海祥丰嘉年华大酒店 舒适型 4.7分/5分</td>\n",
       "      <td>标准双人间(双床) 双床 不含早 1间2晚</td>\n",
       "      <td>春秋航空 9C8741</td>\n",
       "      <td>直飞</td>\n",
       "      <td>17:10-21:50</td>\n",
       "      <td>春秋航空 9C8742</td>\n",
       "      <td>直飞</td>\n",
       "      <td>10:20-15:05</td>\n",
       "    </tr>\n",
       "    <tr>\n",
       "      <th>1</th>\n",
       "      <td>成都</td>\n",
       "      <td>泸沽湖</td>\n",
       "      <td>1145.0</td>\n",
       "      <td>376.0</td>\n",
       "      <td>成都-泸沽湖3天2晚 | 入住7天酒店丽江古城中心店 + 成都航空往返机票</td>\n",
       "      <td>7天酒店丽江古城中心店 经济型 4.0分/5分</td>\n",
       "      <td>经济房-不含早-限时特... 其他 不含早 1间2晚</td>\n",
       "      <td>成都航空 EU2237</td>\n",
       "      <td>直飞</td>\n",
       "      <td>19:45-21:20</td>\n",
       "      <td>成都航空 EU2738</td>\n",
       "      <td>直飞</td>\n",
       "      <td>23:30-01:05</td>\n",
       "    </tr>\n",
       "    <tr>\n",
       "      <th>2</th>\n",
       "      <td>广州</td>\n",
       "      <td>沈阳</td>\n",
       "      <td>2702.0</td>\n",
       "      <td>618.0</td>\n",
       "      <td>广州-沈阳3天2晚 | 入住沈阳中煤宾馆 + 南方航空/深圳航空往返机票</td>\n",
       "      <td>沈阳中煤宾馆 舒适型 4.5分/5分</td>\n",
       "      <td>大床间(内宾) 大床 双早 1间2晚</td>\n",
       "      <td>南方航空 CZ6384</td>\n",
       "      <td>直飞</td>\n",
       "      <td>08:05-11:45</td>\n",
       "      <td>深圳航空 ZH9652</td>\n",
       "      <td>经停</td>\n",
       "      <td>08:20-13:05</td>\n",
       "    </tr>\n",
       "    <tr>\n",
       "      <th>3</th>\n",
       "      <td>上海</td>\n",
       "      <td>九寨沟</td>\n",
       "      <td>1954.0</td>\n",
       "      <td>484.0</td>\n",
       "      <td>上海-九寨沟3天2晚 | 入住红原芸谊大酒店 + 成都航空往返机票</td>\n",
       "      <td>红原芸谊大酒店 舒适型 4.6分/5分</td>\n",
       "      <td>豪华双床房[双早] 双床 双早 1间2晚</td>\n",
       "      <td>成都航空 EU6678</td>\n",
       "      <td>直飞</td>\n",
       "      <td>21:55-01:15</td>\n",
       "      <td>成都航空 EU6677</td>\n",
       "      <td>直飞</td>\n",
       "      <td>17:45-20:35</td>\n",
       "    </tr>\n",
       "    <tr>\n",
       "      <th>4</th>\n",
       "      <td>广州</td>\n",
       "      <td>天津</td>\n",
       "      <td>1608.0</td>\n",
       "      <td>422.0</td>\n",
       "      <td>广州-天津3天2晚 | 入住天津逸海明珠大酒店 + 奥凯航空/海南航空往返机票</td>\n",
       "      <td>天津逸海明珠大酒店 高档型 4.1分/5分</td>\n",
       "      <td>豪华双床房(预付) 双床 不含早 1间2晚</td>\n",
       "      <td>奥凯航空 BK2787</td>\n",
       "      <td>直飞</td>\n",
       "      <td>06:55-10:00</td>\n",
       "      <td>海南航空 HU7201</td>\n",
       "      <td>直飞</td>\n",
       "      <td>20:15-23:25</td>\n",
       "    </tr>\n",
       "  </tbody>\n",
       "</table>\n",
       "</div>"
      ],
      "text/plain": [
       "  出发地   目的地     价格      节省                                      路线名  \\\n",
       "0  哈尔滨   北海  2208.0  650.0     哈尔滨-北海3天2晚 | 入住北海祥丰嘉年华大酒店 + 春秋航空往返机票   \n",
       "1   成都  泸沽湖  1145.0  376.0    成都-泸沽湖3天2晚 | 入住7天酒店丽江古城中心店 + 成都航空往返机票   \n",
       "2   广州   沈阳  2702.0  618.0     广州-沈阳3天2晚 | 入住沈阳中煤宾馆 + 南方航空/深圳航空往返机票   \n",
       "3   上海  九寨沟  1954.0  484.0        上海-九寨沟3天2晚 | 入住红原芸谊大酒店 + 成都航空往返机票   \n",
       "4   广州   天津  1608.0  422.0  广州-天津3天2晚 | 入住天津逸海明珠大酒店 + 奥凯航空/海南航空往返机票   \n",
       "\n",
       "                        酒店                          房间         去程航司 去程方式  \\\n",
       "0   北海祥丰嘉年华大酒店 舒适型 4.7分/5分       标准双人间(双床) 双床 不含早 1间2晚  春秋航空 9C8741   直飞   \n",
       "1  7天酒店丽江古城中心店 经济型 4.0分/5分  经济房-不含早-限时特... 其他 不含早 1间2晚  成都航空 EU2237   直飞   \n",
       "2       沈阳中煤宾馆 舒适型 4.5分/5分          大床间(内宾) 大床 双早 1间2晚  南方航空 CZ6384   直飞   \n",
       "3      红原芸谊大酒店 舒适型 4.6分/5分        豪华双床房[双早] 双床 双早 1间2晚  成都航空 EU6678   直飞   \n",
       "4    天津逸海明珠大酒店 高档型 4.1分/5分       豪华双床房(预付) 双床 不含早 1间2晚  奥凯航空 BK2787   直飞   \n",
       "\n",
       "          去程时间         回程航司 回程方式          回程时间  \n",
       "0  17:10-21:50  春秋航空 9C8742    直飞  10:20-15:05  \n",
       "1  19:45-21:20  成都航空 EU2738    直飞  23:30-01:05  \n",
       "2  08:05-11:45  深圳航空 ZH9652    经停  08:20-13:05  \n",
       "3  21:55-01:15  成都航空 EU6677    直飞  17:45-20:35  \n",
       "4  06:55-10:00  海南航空 HU7201    直飞  20:15-23:25  "
      ]
     },
     "execution_count": 5,
     "metadata": {},
     "output_type": "execute_result"
    }
   ],
   "source": [
    "df.head()"
   ]
  },
  {
   "cell_type": "markdown",
   "metadata": {},
   "source": [
    "### 看下数据的大概分布"
   ]
  },
  {
   "cell_type": "code",
   "execution_count": 6,
   "metadata": {
    "scrolled": true
   },
   "outputs": [
    {
     "name": "stdout",
     "output_type": "stream",
     "text": [
      "<class 'pandas.core.frame.DataFrame'>\n",
      "Int64Index: 5100 entries, 0 to 5099\n",
      "Data columns (total 13 columns):\n",
      " #   Column  Non-Null Count  Dtype  \n",
      "---  ------  --------------  -----  \n",
      " 0   出发地     5098 non-null   object \n",
      " 1    目的地    5099 non-null   object \n",
      " 2   价格      5072 non-null   float64\n",
      " 3   节省      5083 non-null   float64\n",
      " 4   路线名     5100 non-null   object \n",
      " 5   酒店      5100 non-null   object \n",
      " 6   房间      5100 non-null   object \n",
      " 7   去程航司    5100 non-null   object \n",
      " 8   去程方式    5100 non-null   object \n",
      " 9   去程时间    5100 non-null   object \n",
      " 10  回程航司    5100 non-null   object \n",
      " 11  回程方式    5100 non-null   object \n",
      " 12  回程时间    5100 non-null   object \n",
      "dtypes: float64(2), object(11)\n",
      "memory usage: 557.8+ KB\n"
     ]
    }
   ],
   "source": [
    "df.info()"
   ]
  },
  {
   "cell_type": "markdown",
   "metadata": {},
   "source": [
    "\"出发地\"、\"目的地\"、\"价格\"、\"节省\" 四列有缺失值，需要清洗。"
   ]
  },
  {
   "cell_type": "markdown",
   "metadata": {},
   "source": [
    "\n"
   ]
  },
  {
   "cell_type": "markdown",
   "metadata": {},
   "source": [
    "### describe( )展示一些基本信息"
   ]
  },
  {
   "cell_type": "code",
   "execution_count": 7,
   "metadata": {},
   "outputs": [
    {
     "data": {
      "text/html": [
       "<div>\n",
       "<style scoped>\n",
       "    .dataframe tbody tr th:only-of-type {\n",
       "        vertical-align: middle;\n",
       "    }\n",
       "\n",
       "    .dataframe tbody tr th {\n",
       "        vertical-align: top;\n",
       "    }\n",
       "\n",
       "    .dataframe thead th {\n",
       "        text-align: right;\n",
       "    }\n",
       "</style>\n",
       "<table border=\"1\" class=\"dataframe\">\n",
       "  <thead>\n",
       "    <tr style=\"text-align: right;\">\n",
       "      <th></th>\n",
       "      <th>价格</th>\n",
       "      <th>节省</th>\n",
       "    </tr>\n",
       "  </thead>\n",
       "  <tbody>\n",
       "    <tr>\n",
       "      <th>count</th>\n",
       "      <td>5072.000000</td>\n",
       "      <td>5083.000000</td>\n",
       "    </tr>\n",
       "    <tr>\n",
       "      <th>mean</th>\n",
       "      <td>1765.714905</td>\n",
       "      <td>474.139878</td>\n",
       "    </tr>\n",
       "    <tr>\n",
       "      <th>std</th>\n",
       "      <td>2580.129644</td>\n",
       "      <td>168.893780</td>\n",
       "    </tr>\n",
       "    <tr>\n",
       "      <th>min</th>\n",
       "      <td>578.000000</td>\n",
       "      <td>306.000000</td>\n",
       "    </tr>\n",
       "    <tr>\n",
       "      <th>25%</th>\n",
       "      <td>1253.000000</td>\n",
       "      <td>358.000000</td>\n",
       "    </tr>\n",
       "    <tr>\n",
       "      <th>50%</th>\n",
       "      <td>1632.000000</td>\n",
       "      <td>436.000000</td>\n",
       "    </tr>\n",
       "    <tr>\n",
       "      <th>75%</th>\n",
       "      <td>2028.250000</td>\n",
       "      <td>530.000000</td>\n",
       "    </tr>\n",
       "    <tr>\n",
       "      <th>max</th>\n",
       "      <td>179500.000000</td>\n",
       "      <td>3500.000000</td>\n",
       "    </tr>\n",
       "  </tbody>\n",
       "</table>\n",
       "</div>"
      ],
      "text/plain": [
       "                 价格            节省\n",
       "count    5072.000000  5083.000000\n",
       "mean     1765.714905   474.139878\n",
       "std      2580.129644   168.893780\n",
       "min       578.000000   306.000000\n",
       "25%      1253.000000   358.000000\n",
       "50%      1632.000000   436.000000\n",
       "75%      2028.250000   530.000000\n",
       "max    179500.000000  3500.000000"
      ]
     },
     "execution_count": 7,
     "metadata": {},
     "output_type": "execute_result"
    }
   ],
   "source": [
    "df.describe()"
   ]
  },
  {
   "cell_type": "markdown",
   "metadata": {},
   "source": [
    "”价格“和”节省“两列中数据的最大值异常大，价格有十七万，需要检验是否为异常值。"
   ]
  },
  {
   "cell_type": "markdown",
   "metadata": {},
   "source": [
    "\n"
   ]
  },
  {
   "cell_type": "markdown",
   "metadata": {},
   "source": [
    "### 查看有没有重复值"
   ]
  },
  {
   "cell_type": "code",
   "execution_count": 8,
   "metadata": {},
   "outputs": [
    {
     "data": {
      "text/plain": [
       "100"
      ]
     },
     "execution_count": 8,
     "metadata": {},
     "output_type": "execute_result"
    }
   ],
   "source": [
    "df.duplicated().sum()"
   ]
  },
  {
   "cell_type": "markdown",
   "metadata": {},
   "source": [
    "有重复的行，后续可直接删除。"
   ]
  },
  {
   "cell_type": "markdown",
   "metadata": {},
   "source": [
    "\n"
   ]
  },
  {
   "cell_type": "markdown",
   "metadata": {},
   "source": [
    "### 看看列名"
   ]
  },
  {
   "cell_type": "code",
   "execution_count": 9,
   "metadata": {},
   "outputs": [
    {
     "data": {
      "text/plain": [
       "Index(['出发地 ', ' 目的地', '价格 ', '节省', '路线名', '酒店', '房间', '去程航司', '去程方式', '去程时间',\n",
       "       '回程航司', '回程方式 ', '回程时间'],\n",
       "      dtype='object')"
      ]
     },
     "execution_count": 9,
     "metadata": {},
     "output_type": "execute_result"
    }
   ],
   "source": [
    "df.columns"
   ]
  },
  {
   "cell_type": "markdown",
   "metadata": {},
   "source": [
    "列名中有空格，需要清洗"
   ]
  },
  {
   "cell_type": "markdown",
   "metadata": {},
   "source": [
    "# 数据清洗"
   ]
  },
  {
   "cell_type": "markdown",
   "metadata": {},
   "source": [
    "## “列名”清洗"
   ]
  },
  {
   "cell_type": "code",
   "execution_count": 10,
   "metadata": {},
   "outputs": [],
   "source": [
    "# 处理列名空字符\n",
    "df.columns = [x.strip() for x in df.columns]"
   ]
  },
  {
   "cell_type": "code",
   "execution_count": 11,
   "metadata": {},
   "outputs": [
    {
     "data": {
      "text/plain": [
       "Index(['出发地', '目的地', '价格', '节省', '路线名', '酒店', '房间', '去程航司', '去程方式', '去程时间',\n",
       "       '回程航司', '回程方式', '回程时间'],\n",
       "      dtype='object')"
      ]
     },
     "execution_count": 11,
     "metadata": {},
     "output_type": "execute_result"
    }
   ],
   "source": [
    "# 再查看\n",
    "df.columns"
   ]
  },
  {
   "cell_type": "markdown",
   "metadata": {},
   "source": [
    "## 重复值处理"
   ]
  },
  {
   "cell_type": "markdown",
   "metadata": {},
   "source": [
    "### 判断重复行"
   ]
  },
  {
   "cell_type": "code",
   "execution_count": 12,
   "metadata": {},
   "outputs": [
    {
     "data": {
      "text/plain": [
       "100"
      ]
     },
     "execution_count": 12,
     "metadata": {},
     "output_type": "execute_result"
    }
   ],
   "source": [
    "# 查看重复行\n",
    "df.duplicated().sum()"
   ]
  },
  {
   "cell_type": "code",
   "execution_count": 13,
   "metadata": {},
   "outputs": [
    {
     "data": {
      "text/html": [
       "<div>\n",
       "<style scoped>\n",
       "    .dataframe tbody tr th:only-of-type {\n",
       "        vertical-align: middle;\n",
       "    }\n",
       "\n",
       "    .dataframe tbody tr th {\n",
       "        vertical-align: top;\n",
       "    }\n",
       "\n",
       "    .dataframe thead th {\n",
       "        text-align: right;\n",
       "    }\n",
       "</style>\n",
       "<table border=\"1\" class=\"dataframe\">\n",
       "  <thead>\n",
       "    <tr style=\"text-align: right;\">\n",
       "      <th></th>\n",
       "      <th>出发地</th>\n",
       "      <th>目的地</th>\n",
       "      <th>价格</th>\n",
       "      <th>节省</th>\n",
       "      <th>路线名</th>\n",
       "      <th>酒店</th>\n",
       "      <th>房间</th>\n",
       "      <th>去程航司</th>\n",
       "      <th>去程方式</th>\n",
       "      <th>去程时间</th>\n",
       "      <th>回程航司</th>\n",
       "      <th>回程方式</th>\n",
       "      <th>回程时间</th>\n",
       "    </tr>\n",
       "  </thead>\n",
       "  <tbody>\n",
       "    <tr>\n",
       "      <th>454</th>\n",
       "      <td>广州</td>\n",
       "      <td>黄山</td>\n",
       "      <td>1871.0</td>\n",
       "      <td>492.0</td>\n",
       "      <td>广州-黄山3天2晚 | 入住黄山汤口醉享主题酒店 + 南方航空往返机票</td>\n",
       "      <td>黄山汤口醉享主题酒店 舒适型 4.8分/5分</td>\n",
       "      <td>睫毛弯弯(大床) 大床 不含早 1间2晚</td>\n",
       "      <td>南方航空 CZ3627</td>\n",
       "      <td>直飞</td>\n",
       "      <td>19:20-21:15</td>\n",
       "      <td>南方航空 CZ3628</td>\n",
       "      <td>直飞</td>\n",
       "      <td>22:05-23:50</td>\n",
       "    </tr>\n",
       "    <tr>\n",
       "      <th>649</th>\n",
       "      <td>济南</td>\n",
       "      <td>长沙</td>\n",
       "      <td>1134.0</td>\n",
       "      <td>360.0</td>\n",
       "      <td>济南-长沙3天2晚 | 入住长沙喜迎宾华天大酒店 + 山东航空往返机票</td>\n",
       "      <td>长沙喜迎宾华天大酒店 高档型 3.7分/5分</td>\n",
       "      <td>特惠双间(特惠抢购)(... 双床 不含早 1间2晚</td>\n",
       "      <td>山东航空 SC1185</td>\n",
       "      <td>直飞</td>\n",
       "      <td>18:40-20:50</td>\n",
       "      <td>山东航空 SC1186</td>\n",
       "      <td>直飞</td>\n",
       "      <td>10:20-12:15</td>\n",
       "    </tr>\n",
       "    <tr>\n",
       "      <th>685</th>\n",
       "      <td>青岛</td>\n",
       "      <td>重庆</td>\n",
       "      <td>1474.0</td>\n",
       "      <td>420.0</td>\n",
       "      <td>青岛-重庆3天2晚 | 入住怡家丽景酒店重庆垫江店 + 山东航空/华夏航空往返机票</td>\n",
       "      <td>怡家丽景酒店重庆垫江店 舒适型 4.3分/5分</td>\n",
       "      <td>法式房(内宾)(无窗)... 大床 不含早 1间2晚</td>\n",
       "      <td>山东航空 SC4709</td>\n",
       "      <td>经停</td>\n",
       "      <td>19:30-00:05</td>\n",
       "      <td>华夏航空 G54710</td>\n",
       "      <td>经停</td>\n",
       "      <td>18:00-22:25</td>\n",
       "    </tr>\n",
       "    <tr>\n",
       "      <th>852</th>\n",
       "      <td>北京</td>\n",
       "      <td>哈尔滨</td>\n",
       "      <td>1450.0</td>\n",
       "      <td>368.0</td>\n",
       "      <td>北京-哈尔滨3天2晚 | 入住哈尔滨水逸城市酒店 + 南方航空/大新华航空往返机票</td>\n",
       "      <td>哈尔滨水逸城市酒店 舒适型 4.6分/5分</td>\n",
       "      <td>标准间-【预付特惠】独... 双床 双早 1间2晚</td>\n",
       "      <td>南方航空 CZ6202</td>\n",
       "      <td>直飞</td>\n",
       "      <td>22:20-00:20</td>\n",
       "      <td>大新华航空 CN7150</td>\n",
       "      <td>直飞</td>\n",
       "      <td>22:50-00:55</td>\n",
       "    </tr>\n",
       "    <tr>\n",
       "      <th>922</th>\n",
       "      <td>北京</td>\n",
       "      <td>长沙</td>\n",
       "      <td>1289.0</td>\n",
       "      <td>334.0</td>\n",
       "      <td>北京-长沙3天2晚 | 入住浏阳市华尔宫大酒店 + 海南航空/南方航空往返机票</td>\n",
       "      <td>浏阳市华尔宫大酒店 3.8分/5分</td>\n",
       "      <td>豪华双人间(双床) 双床 不含早 1间2晚</td>\n",
       "      <td>海南航空 HU7135</td>\n",
       "      <td>直飞</td>\n",
       "      <td>17:45-20:30</td>\n",
       "      <td>南方航空 CZ3855</td>\n",
       "      <td>直飞</td>\n",
       "      <td>22:55-01:10</td>\n",
       "    </tr>\n",
       "    <tr>\n",
       "      <th>...</th>\n",
       "      <td>...</td>\n",
       "      <td>...</td>\n",
       "      <td>...</td>\n",
       "      <td>...</td>\n",
       "      <td>...</td>\n",
       "      <td>...</td>\n",
       "      <td>...</td>\n",
       "      <td>...</td>\n",
       "      <td>...</td>\n",
       "      <td>...</td>\n",
       "      <td>...</td>\n",
       "      <td>...</td>\n",
       "      <td>...</td>\n",
       "    </tr>\n",
       "    <tr>\n",
       "      <th>5045</th>\n",
       "      <td>杭州</td>\n",
       "      <td>丽江</td>\n",
       "      <td>2872.0</td>\n",
       "      <td>718.0</td>\n",
       "      <td>杭州-丽江3天2晚 | 入住丽江松竹居客栈玉观音店 + 长龙航空/首都航空往返机票</td>\n",
       "      <td>丽江松竹居客栈玉观音店 高档型 4.6分/5分</td>\n",
       "      <td>特惠房(大床) 大床 不含早 1间2晚</td>\n",
       "      <td>长龙航空 GJ8869</td>\n",
       "      <td>经停</td>\n",
       "      <td>08:50-13:35</td>\n",
       "      <td>首都航空 JD5192</td>\n",
       "      <td>直飞</td>\n",
       "      <td>13:00-16:15</td>\n",
       "    </tr>\n",
       "    <tr>\n",
       "      <th>5066</th>\n",
       "      <td>哈尔滨</td>\n",
       "      <td>西安</td>\n",
       "      <td>1843.0</td>\n",
       "      <td>450.0</td>\n",
       "      <td>哈尔滨-西安3天2晚 | 入住西安铁通商务酒店贵宾楼 + 天津航空/东方航空往返...</td>\n",
       "      <td>西安铁通商务酒店贵宾楼 舒适型 4.2分/5分</td>\n",
       "      <td>标准间(持房卡尊享清凉... 双床 不含早 1间2晚</td>\n",
       "      <td>天津航空 GS7584</td>\n",
       "      <td>经停</td>\n",
       "      <td>12:30-17:40</td>\n",
       "      <td>东方航空 MU2211</td>\n",
       "      <td>经停</td>\n",
       "      <td>08:45-13:25</td>\n",
       "    </tr>\n",
       "    <tr>\n",
       "      <th>5068</th>\n",
       "      <td>南京</td>\n",
       "      <td>成都</td>\n",
       "      <td>1922.0</td>\n",
       "      <td>552.0</td>\n",
       "      <td>南京-成都3天2晚 | 入住成都伊丽特酒店 + 东方航空/西藏航空往返机票</td>\n",
       "      <td>成都伊丽特酒店 高档型 4.5分/5分</td>\n",
       "      <td>行政标准间-含早立即确... 双床 双早 1间2晚</td>\n",
       "      <td>东方航空 MU2880</td>\n",
       "      <td>直飞</td>\n",
       "      <td>21:55-00:35</td>\n",
       "      <td>西藏航空 TV9839</td>\n",
       "      <td>直飞</td>\n",
       "      <td>06:30-08:55</td>\n",
       "    </tr>\n",
       "    <tr>\n",
       "      <th>5081</th>\n",
       "      <td>上海</td>\n",
       "      <td>青岛</td>\n",
       "      <td>769.0</td>\n",
       "      <td>354.0</td>\n",
       "      <td>上海-青岛3天2晚 | 入住青岛金中太大酒店 + 春秋航空/吉祥航空往返机票</td>\n",
       "      <td>青岛金中太大酒店 舒适型 4.8分/5分</td>\n",
       "      <td>特惠大床房[无早] 大床 不含早 1间2晚</td>\n",
       "      <td>春秋航空 9C8853</td>\n",
       "      <td>直飞</td>\n",
       "      <td>19:50-21:35</td>\n",
       "      <td>吉祥航空 HO1242</td>\n",
       "      <td>直飞</td>\n",
       "      <td>23:05-00:35</td>\n",
       "    </tr>\n",
       "    <tr>\n",
       "      <th>5095</th>\n",
       "      <td>宁波</td>\n",
       "      <td>九寨沟</td>\n",
       "      <td>2085.0</td>\n",
       "      <td>562.0</td>\n",
       "      <td>宁波-九寨沟3天2晚 | 入住黑水县达古冰山国际大酒店 + 成都航空/四川航空往...</td>\n",
       "      <td>黑水县达古冰山国际大酒店 豪华型 3.9分/5分</td>\n",
       "      <td>B区豪华标间(双床) 双床 不含早 1间2晚</td>\n",
       "      <td>成都航空 EU2730</td>\n",
       "      <td>经停</td>\n",
       "      <td>19:45-00:45</td>\n",
       "      <td>四川航空 3U8927</td>\n",
       "      <td>经停</td>\n",
       "      <td>07:55-12:15</td>\n",
       "    </tr>\n",
       "  </tbody>\n",
       "</table>\n",
       "<p>100 rows × 13 columns</p>\n",
       "</div>"
      ],
      "text/plain": [
       "      出发地  目的地      价格     节省                                          路线名  \\\n",
       "454    广州   黄山  1871.0  492.0          广州-黄山3天2晚 | 入住黄山汤口醉享主题酒店 + 南方航空往返机票   \n",
       "649    济南   长沙  1134.0  360.0          济南-长沙3天2晚 | 入住长沙喜迎宾华天大酒店 + 山东航空往返机票   \n",
       "685    青岛   重庆  1474.0  420.0    青岛-重庆3天2晚 | 入住怡家丽景酒店重庆垫江店 + 山东航空/华夏航空往返机票   \n",
       "852    北京  哈尔滨  1450.0  368.0    北京-哈尔滨3天2晚 | 入住哈尔滨水逸城市酒店 + 南方航空/大新华航空往返机票   \n",
       "922    北京   长沙  1289.0  334.0      北京-长沙3天2晚 | 入住浏阳市华尔宫大酒店 + 海南航空/南方航空往返机票   \n",
       "...   ...  ...     ...    ...                                          ...   \n",
       "5045   杭州   丽江  2872.0  718.0    杭州-丽江3天2晚 | 入住丽江松竹居客栈玉观音店 + 长龙航空/首都航空往返机票   \n",
       "5066  哈尔滨   西安  1843.0  450.0  哈尔滨-西安3天2晚 | 入住西安铁通商务酒店贵宾楼 + 天津航空/东方航空往返...   \n",
       "5068   南京   成都  1922.0  552.0        南京-成都3天2晚 | 入住成都伊丽特酒店 + 东方航空/西藏航空往返机票   \n",
       "5081   上海   青岛   769.0  354.0       上海-青岛3天2晚 | 入住青岛金中太大酒店 + 春秋航空/吉祥航空往返机票   \n",
       "5095   宁波  九寨沟  2085.0  562.0  宁波-九寨沟3天2晚 | 入住黑水县达古冰山国际大酒店 + 成都航空/四川航空往...   \n",
       "\n",
       "                            酒店                          房间         去程航司 去程方式  \\\n",
       "454     黄山汤口醉享主题酒店 舒适型 4.8分/5分        睫毛弯弯(大床) 大床 不含早 1间2晚  南方航空 CZ3627   直飞   \n",
       "649     长沙喜迎宾华天大酒店 高档型 3.7分/5分  特惠双间(特惠抢购)(... 双床 不含早 1间2晚  山东航空 SC1185   直飞   \n",
       "685    怡家丽景酒店重庆垫江店 舒适型 4.3分/5分  法式房(内宾)(无窗)... 大床 不含早 1间2晚  山东航空 SC4709   经停   \n",
       "852      哈尔滨水逸城市酒店 舒适型 4.6分/5分   标准间-【预付特惠】独... 双床 双早 1间2晚  南方航空 CZ6202   直飞   \n",
       "922          浏阳市华尔宫大酒店 3.8分/5分       豪华双人间(双床) 双床 不含早 1间2晚  海南航空 HU7135   直飞   \n",
       "...                        ...                         ...          ...  ...   \n",
       "5045   丽江松竹居客栈玉观音店 高档型 4.6分/5分         特惠房(大床) 大床 不含早 1间2晚  长龙航空 GJ8869   经停   \n",
       "5066   西安铁通商务酒店贵宾楼 舒适型 4.2分/5分  标准间(持房卡尊享清凉... 双床 不含早 1间2晚  天津航空 GS7584   经停   \n",
       "5068       成都伊丽特酒店 高档型 4.5分/5分   行政标准间-含早立即确... 双床 双早 1间2晚  东方航空 MU2880   直飞   \n",
       "5081      青岛金中太大酒店 舒适型 4.8分/5分       特惠大床房[无早] 大床 不含早 1间2晚  春秋航空 9C8853   直飞   \n",
       "5095  黑水县达古冰山国际大酒店 豪华型 3.9分/5分      B区豪华标间(双床) 双床 不含早 1间2晚  成都航空 EU2730   经停   \n",
       "\n",
       "             去程时间          回程航司 回程方式         回程时间  \n",
       "454   19:20-21:15   南方航空 CZ3628   直飞  22:05-23:50  \n",
       "649   18:40-20:50   山东航空 SC1186   直飞  10:20-12:15  \n",
       "685   19:30-00:05   华夏航空 G54710   经停  18:00-22:25  \n",
       "852   22:20-00:20  大新华航空 CN7150   直飞  22:50-00:55  \n",
       "922   17:45-20:30   南方航空 CZ3855   直飞  22:55-01:10  \n",
       "...           ...           ...  ...          ...  \n",
       "5045  08:50-13:35   首都航空 JD5192   直飞  13:00-16:15  \n",
       "5066  12:30-17:40   东方航空 MU2211   经停  08:45-13:25  \n",
       "5068  21:55-00:35   西藏航空 TV9839   直飞  06:30-08:55  \n",
       "5081  19:50-21:35   吉祥航空 HO1242   直飞  23:05-00:35  \n",
       "5095  19:45-00:45   四川航空 3U8927   经停  07:55-12:15  \n",
       "\n",
       "[100 rows x 13 columns]"
      ]
     },
     "execution_count": 13,
     "metadata": {},
     "output_type": "execute_result"
    }
   ],
   "source": [
    "# 展示重复行的记录\n",
    "df[df.duplicated()]"
   ]
  },
  {
   "cell_type": "markdown",
   "metadata": {},
   "source": [
    "判断有100行重复数据，直接进行去重。"
   ]
  },
  {
   "cell_type": "markdown",
   "metadata": {},
   "source": [
    "### 重复行清洗"
   ]
  },
  {
   "cell_type": "code",
   "execution_count": 14,
   "metadata": {},
   "outputs": [],
   "source": [
    "# 删除重读行\n",
    "df.drop_duplicates(inplace=True)"
   ]
  },
  {
   "cell_type": "code",
   "execution_count": 15,
   "metadata": {},
   "outputs": [
    {
     "data": {
      "text/plain": [
       "(5000, 13)"
      ]
     },
     "execution_count": 15,
     "metadata": {},
     "output_type": "execute_result"
    }
   ],
   "source": [
    "# 再查看\n",
    "df.shape"
   ]
  },
  {
   "cell_type": "markdown",
   "metadata": {},
   "source": [
    "## 异常值处理"
   ]
  },
  {
   "cell_type": "markdown",
   "metadata": {},
   "source": [
    "### 异常值列概览"
   ]
  },
  {
   "cell_type": "code",
   "execution_count": 16,
   "metadata": {},
   "outputs": [
    {
     "data": {
      "text/html": [
       "<div>\n",
       "<style scoped>\n",
       "    .dataframe tbody tr th:only-of-type {\n",
       "        vertical-align: middle;\n",
       "    }\n",
       "\n",
       "    .dataframe tbody tr th {\n",
       "        vertical-align: top;\n",
       "    }\n",
       "\n",
       "    .dataframe thead th {\n",
       "        text-align: right;\n",
       "    }\n",
       "</style>\n",
       "<table border=\"1\" class=\"dataframe\">\n",
       "  <thead>\n",
       "    <tr style=\"text-align: right;\">\n",
       "      <th></th>\n",
       "      <th>价格</th>\n",
       "      <th>节省</th>\n",
       "    </tr>\n",
       "  </thead>\n",
       "  <tbody>\n",
       "    <tr>\n",
       "      <th>count</th>\n",
       "      <td>4972.000000</td>\n",
       "      <td>4983.000000</td>\n",
       "    </tr>\n",
       "    <tr>\n",
       "      <th>mean</th>\n",
       "      <td>1767.782381</td>\n",
       "      <td>474.490869</td>\n",
       "    </tr>\n",
       "    <tr>\n",
       "      <th>std</th>\n",
       "      <td>2604.329780</td>\n",
       "      <td>169.148391</td>\n",
       "    </tr>\n",
       "    <tr>\n",
       "      <th>min</th>\n",
       "      <td>578.000000</td>\n",
       "      <td>306.000000</td>\n",
       "    </tr>\n",
       "    <tr>\n",
       "      <th>25%</th>\n",
       "      <td>1253.000000</td>\n",
       "      <td>358.000000</td>\n",
       "    </tr>\n",
       "    <tr>\n",
       "      <th>50%</th>\n",
       "      <td>1633.000000</td>\n",
       "      <td>436.000000</td>\n",
       "    </tr>\n",
       "    <tr>\n",
       "      <th>75%</th>\n",
       "      <td>2031.000000</td>\n",
       "      <td>532.000000</td>\n",
       "    </tr>\n",
       "    <tr>\n",
       "      <th>max</th>\n",
       "      <td>179500.000000</td>\n",
       "      <td>3500.000000</td>\n",
       "    </tr>\n",
       "  </tbody>\n",
       "</table>\n",
       "</div>"
      ],
      "text/plain": [
       "                  价格           节省\n",
       "count    4972.000000  4983.000000\n",
       "mean     1767.782381   474.490869\n",
       "std      2604.329780   169.148391\n",
       "min       578.000000   306.000000\n",
       "25%      1253.000000   358.000000\n",
       "50%      1633.000000   436.000000\n",
       "75%      2031.000000   532.000000\n",
       "max    179500.000000  3500.000000"
      ]
     },
     "execution_count": 16,
     "metadata": {},
     "output_type": "execute_result"
    }
   ],
   "source": [
    "df.describe()"
   ]
  },
  {
   "cell_type": "markdown",
   "metadata": {},
   "source": [
    "### “价格”异常值清洗"
   ]
  },
  {
   "cell_type": "code",
   "execution_count": 17,
   "metadata": {
    "scrolled": true
   },
   "outputs": [
    {
     "data": {
      "text/html": [
       "<div>\n",
       "<style scoped>\n",
       "    .dataframe tbody tr th:only-of-type {\n",
       "        vertical-align: middle;\n",
       "    }\n",
       "\n",
       "    .dataframe tbody tr th {\n",
       "        vertical-align: top;\n",
       "    }\n",
       "\n",
       "    .dataframe thead th {\n",
       "        text-align: right;\n",
       "    }\n",
       "</style>\n",
       "<table border=\"1\" class=\"dataframe\">\n",
       "  <thead>\n",
       "    <tr style=\"text-align: right;\">\n",
       "      <th></th>\n",
       "      <th>出发地</th>\n",
       "      <th>目的地</th>\n",
       "      <th>价格</th>\n",
       "      <th>节省</th>\n",
       "      <th>路线名</th>\n",
       "      <th>酒店</th>\n",
       "      <th>房间</th>\n",
       "      <th>去程航司</th>\n",
       "      <th>去程方式</th>\n",
       "      <th>去程时间</th>\n",
       "      <th>回程航司</th>\n",
       "      <th>回程方式</th>\n",
       "      <th>回程时间</th>\n",
       "    </tr>\n",
       "  </thead>\n",
       "  <tbody>\n",
       "    <tr>\n",
       "      <th>2792</th>\n",
       "      <td>杭州</td>\n",
       "      <td>九寨沟</td>\n",
       "      <td>179500.0</td>\n",
       "      <td>538.0</td>\n",
       "      <td>杭州-九寨沟3天2晚 | 入住九寨沟九乡宾馆 + 成都航空/长龙航空往返机票</td>\n",
       "      <td>九寨沟九乡宾馆 舒适型 4.3分/5分</td>\n",
       "      <td>特惠房(双床) 双床 不含早 1间2晚</td>\n",
       "      <td>成都航空 EU2206</td>\n",
       "      <td>经停</td>\n",
       "      <td>20:30-01:00</td>\n",
       "      <td>长龙航空 GJ8680</td>\n",
       "      <td>经停</td>\n",
       "      <td>20:25-00:50</td>\n",
       "    </tr>\n",
       "  </tbody>\n",
       "</table>\n",
       "</div>"
      ],
      "text/plain": [
       "     出发地  目的地        价格     节省                                     路线名  \\\n",
       "2792  杭州  九寨沟  179500.0  538.0  杭州-九寨沟3天2晚 | 入住九寨沟九乡宾馆 + 成都航空/长龙航空往返机票   \n",
       "\n",
       "                       酒店                   房间         去程航司 去程方式         去程时间  \\\n",
       "2792  九寨沟九乡宾馆 舒适型 4.3分/5分  特惠房(双床) 双床 不含早 1间2晚  成都航空 EU2206   经停  20:30-01:00   \n",
       "\n",
       "             回程航司 回程方式         回程时间  \n",
       "2792  长龙航空 GJ8680   经停  20:25-00:50  "
      ]
     },
     "execution_count": 17,
     "metadata": {},
     "output_type": "execute_result"
    }
   ],
   "source": [
    "# 展示价格异常值的记录\n",
    "# 根据正态分布的特性，可以将3σ之外的数据，视为异常值。\n",
    "df[abs((df.价格-df.价格.mean())/df.价格.std())>3]"
   ]
  },
  {
   "cell_type": "code",
   "execution_count": 18,
   "metadata": {},
   "outputs": [],
   "source": [
    "# 删除价格异常值\n",
    "df.drop(df[abs((df.价格-df.价格.mean())/df.价格.std())>3].index,inplace=True)"
   ]
  },
  {
   "cell_type": "markdown",
   "metadata": {},
   "source": [
    "### “节省”异常值清洗"
   ]
  },
  {
   "cell_type": "code",
   "execution_count": 19,
   "metadata": {
    "scrolled": true
   },
   "outputs": [
    {
     "data": {
      "text/html": [
       "<div>\n",
       "<style scoped>\n",
       "    .dataframe tbody tr th:only-of-type {\n",
       "        vertical-align: middle;\n",
       "    }\n",
       "\n",
       "    .dataframe tbody tr th {\n",
       "        vertical-align: top;\n",
       "    }\n",
       "\n",
       "    .dataframe thead th {\n",
       "        text-align: right;\n",
       "    }\n",
       "</style>\n",
       "<table border=\"1\" class=\"dataframe\">\n",
       "  <thead>\n",
       "    <tr style=\"text-align: right;\">\n",
       "      <th></th>\n",
       "      <th>出发地</th>\n",
       "      <th>目的地</th>\n",
       "      <th>价格</th>\n",
       "      <th>节省</th>\n",
       "      <th>路线名</th>\n",
       "      <th>酒店</th>\n",
       "      <th>房间</th>\n",
       "      <th>去程航司</th>\n",
       "      <th>去程方式</th>\n",
       "      <th>去程时间</th>\n",
       "      <th>回程航司</th>\n",
       "      <th>回程方式</th>\n",
       "      <th>回程时间</th>\n",
       "    </tr>\n",
       "  </thead>\n",
       "  <tbody>\n",
       "    <tr>\n",
       "      <th>0</th>\n",
       "      <td>哈尔滨</td>\n",
       "      <td>北海</td>\n",
       "      <td>2208.0</td>\n",
       "      <td>650.0</td>\n",
       "      <td>哈尔滨-北海3天2晚 | 入住北海祥丰嘉年华大酒店 + 春秋航空往返机票</td>\n",
       "      <td>北海祥丰嘉年华大酒店 舒适型 4.7分/5分</td>\n",
       "      <td>标准双人间(双床) 双床 不含早 1间2晚</td>\n",
       "      <td>春秋航空 9C8741</td>\n",
       "      <td>直飞</td>\n",
       "      <td>17:10-21:50</td>\n",
       "      <td>春秋航空 9C8742</td>\n",
       "      <td>直飞</td>\n",
       "      <td>10:20-15:05</td>\n",
       "    </tr>\n",
       "    <tr>\n",
       "      <th>1</th>\n",
       "      <td>成都</td>\n",
       "      <td>泸沽湖</td>\n",
       "      <td>1145.0</td>\n",
       "      <td>376.0</td>\n",
       "      <td>成都-泸沽湖3天2晚 | 入住7天酒店丽江古城中心店 + 成都航空往返机票</td>\n",
       "      <td>7天酒店丽江古城中心店 经济型 4.0分/5分</td>\n",
       "      <td>经济房-不含早-限时特... 其他 不含早 1间2晚</td>\n",
       "      <td>成都航空 EU2237</td>\n",
       "      <td>直飞</td>\n",
       "      <td>19:45-21:20</td>\n",
       "      <td>成都航空 EU2738</td>\n",
       "      <td>直飞</td>\n",
       "      <td>23:30-01:05</td>\n",
       "    </tr>\n",
       "    <tr>\n",
       "      <th>2</th>\n",
       "      <td>广州</td>\n",
       "      <td>沈阳</td>\n",
       "      <td>2702.0</td>\n",
       "      <td>618.0</td>\n",
       "      <td>广州-沈阳3天2晚 | 入住沈阳中煤宾馆 + 南方航空/深圳航空往返机票</td>\n",
       "      <td>沈阳中煤宾馆 舒适型 4.5分/5分</td>\n",
       "      <td>大床间(内宾) 大床 双早 1间2晚</td>\n",
       "      <td>南方航空 CZ6384</td>\n",
       "      <td>直飞</td>\n",
       "      <td>08:05-11:45</td>\n",
       "      <td>深圳航空 ZH9652</td>\n",
       "      <td>经停</td>\n",
       "      <td>08:20-13:05</td>\n",
       "    </tr>\n",
       "    <tr>\n",
       "      <th>3</th>\n",
       "      <td>上海</td>\n",
       "      <td>九寨沟</td>\n",
       "      <td>1954.0</td>\n",
       "      <td>484.0</td>\n",
       "      <td>上海-九寨沟3天2晚 | 入住红原芸谊大酒店 + 成都航空往返机票</td>\n",
       "      <td>红原芸谊大酒店 舒适型 4.6分/5分</td>\n",
       "      <td>豪华双床房[双早] 双床 双早 1间2晚</td>\n",
       "      <td>成都航空 EU6678</td>\n",
       "      <td>直飞</td>\n",
       "      <td>21:55-01:15</td>\n",
       "      <td>成都航空 EU6677</td>\n",
       "      <td>直飞</td>\n",
       "      <td>17:45-20:35</td>\n",
       "    </tr>\n",
       "    <tr>\n",
       "      <th>4</th>\n",
       "      <td>广州</td>\n",
       "      <td>天津</td>\n",
       "      <td>1608.0</td>\n",
       "      <td>422.0</td>\n",
       "      <td>广州-天津3天2晚 | 入住天津逸海明珠大酒店 + 奥凯航空/海南航空往返机票</td>\n",
       "      <td>天津逸海明珠大酒店 高档型 4.1分/5分</td>\n",
       "      <td>豪华双床房(预付) 双床 不含早 1间2晚</td>\n",
       "      <td>奥凯航空 BK2787</td>\n",
       "      <td>直飞</td>\n",
       "      <td>06:55-10:00</td>\n",
       "      <td>海南航空 HU7201</td>\n",
       "      <td>直飞</td>\n",
       "      <td>20:15-23:25</td>\n",
       "    </tr>\n",
       "    <tr>\n",
       "      <th>5</th>\n",
       "      <td>长春</td>\n",
       "      <td>青岛</td>\n",
       "      <td>1580.0</td>\n",
       "      <td>390.0</td>\n",
       "      <td>长春-青岛3天2晚 | 入住青岛康大豪生大酒店 + 南方航空往返机票</td>\n",
       "      <td>青岛康大豪生大酒店 豪华型 4.6分/5分</td>\n",
       "      <td>精选房(大床)[酒店★... 大床 不含早 1间2晚</td>\n",
       "      <td>南方航空 CZ3938</td>\n",
       "      <td>直飞</td>\n",
       "      <td>20:00-21:55</td>\n",
       "      <td>南方航空 CZ3963</td>\n",
       "      <td>直飞</td>\n",
       "      <td>15:40-17:30</td>\n",
       "    </tr>\n",
       "    <tr>\n",
       "      <th>6</th>\n",
       "      <td>济南</td>\n",
       "      <td>九寨沟</td>\n",
       "      <td>1625.0</td>\n",
       "      <td>396.0</td>\n",
       "      <td>济南-九寨沟3天2晚 | 入住阿坝松潘松林酒店 + 中国国航/成都航空往返机票</td>\n",
       "      <td>阿坝松潘松林酒店 舒适型 4.3分/5分</td>\n",
       "      <td>豪华标准间(双床) 双床 不含早 1间2晚</td>\n",
       "      <td>中国国航 CA4528</td>\n",
       "      <td>直飞</td>\n",
       "      <td>21:00-23:30</td>\n",
       "      <td>成都航空 EU2719</td>\n",
       "      <td>直飞</td>\n",
       "      <td>06:55-09:25</td>\n",
       "    </tr>\n",
       "    <tr>\n",
       "      <th>7</th>\n",
       "      <td>宁波</td>\n",
       "      <td>重庆</td>\n",
       "      <td>1673.0</td>\n",
       "      <td>404.0</td>\n",
       "      <td>宁波-重庆3天2晚 | 入住重庆运通假日酒店汽博中心店 + 南方航空/四川航空往...</td>\n",
       "      <td>重庆运通假日酒店汽博中心店 舒适型 4.3分/5分</td>\n",
       "      <td>特惠房(大床) 大床 双早 1间2晚</td>\n",
       "      <td>南方航空 CZ8116</td>\n",
       "      <td>直飞</td>\n",
       "      <td>17:15-19:40</td>\n",
       "      <td>四川航空 3U8983</td>\n",
       "      <td>直飞</td>\n",
       "      <td>06:55-09:35</td>\n",
       "    </tr>\n",
       "    <tr>\n",
       "      <th>8</th>\n",
       "      <td>哈尔滨</td>\n",
       "      <td>南京</td>\n",
       "      <td>1170.0</td>\n",
       "      <td>340.0</td>\n",
       "      <td>哈尔滨-南京3天2晚 | 入住维也纳酒店南京南站汇景店 + 吉祥航空/厦门航空往...</td>\n",
       "      <td>维也纳酒店南京南站汇景店 舒适型 4.4分/5分</td>\n",
       "      <td>特惠大床房（无窗）[双... 大床 双早 1间2晚</td>\n",
       "      <td>吉祥航空 HO1651</td>\n",
       "      <td>直飞</td>\n",
       "      <td>17:10-20:00</td>\n",
       "      <td>厦门航空 MF8067</td>\n",
       "      <td>直飞</td>\n",
       "      <td>19:40-22:25</td>\n",
       "    </tr>\n",
       "    <tr>\n",
       "      <th>9</th>\n",
       "      <td>深圳</td>\n",
       "      <td>厦门</td>\n",
       "      <td>1311.0</td>\n",
       "      <td>350.0</td>\n",
       "      <td>深圳-厦门3天2晚 | 入住厦门泊旅时尚酒店会展中心店 + 海南航空往返机票</td>\n",
       "      <td>厦门泊旅时尚酒店会展中心店 舒适型 4.0分/5分</td>\n",
       "      <td>时尚标准双床房 双床 双早 1间2晚</td>\n",
       "      <td>海南航空 HU7065</td>\n",
       "      <td>直飞</td>\n",
       "      <td>07:30-08:40</td>\n",
       "      <td>海南航空 HU7066</td>\n",
       "      <td>直飞</td>\n",
       "      <td>15:30-16:40</td>\n",
       "    </tr>\n",
       "    <tr>\n",
       "      <th>10</th>\n",
       "      <td>厦门</td>\n",
       "      <td>沈阳</td>\n",
       "      <td>2231.0</td>\n",
       "      <td>606.0</td>\n",
       "      <td>厦门-沈阳3天2晚 | 入住沈阳东方银座国际酒店 + 深圳航空/海南航空往返机票</td>\n",
       "      <td>沈阳东方银座国际酒店 高档型 4.4分/5分</td>\n",
       "      <td>高级大床房(空气清新房... 大床 不含早 1间2晚</td>\n",
       "      <td>深圳航空 ZH9704</td>\n",
       "      <td>经停</td>\n",
       "      <td>17:20-22:10</td>\n",
       "      <td>海南航空 HU7048</td>\n",
       "      <td>直飞</td>\n",
       "      <td>14:15-17:45</td>\n",
       "    </tr>\n",
       "    <tr>\n",
       "      <th>11</th>\n",
       "      <td>哈尔滨</td>\n",
       "      <td>长沙</td>\n",
       "      <td>NaN</td>\n",
       "      <td>472.0</td>\n",
       "      <td>哈尔滨-长沙3天2晚 | 入住长沙艾玛连锁酒店 + 海南航空/奥凯航空往返机票</td>\n",
       "      <td>长沙艾玛连锁酒店 舒适型 3.7分/5分</td>\n",
       "      <td>豪华双人间-不含早（预... 双床 不含早 1间2晚</td>\n",
       "      <td>海南航空 HU7726</td>\n",
       "      <td>经停</td>\n",
       "      <td>16:25-22:05</td>\n",
       "      <td>奥凯航空 BK2849</td>\n",
       "      <td>经停</td>\n",
       "      <td>07:15-12:50</td>\n",
       "    </tr>\n",
       "    <tr>\n",
       "      <th>12</th>\n",
       "      <td>重庆</td>\n",
       "      <td>厦门</td>\n",
       "      <td>1780.0</td>\n",
       "      <td>486.0</td>\n",
       "      <td>重庆-厦门3天2晚 | 入住宜尚酒店厦门机场高科技园店 + 西藏航空/厦门航空往...</td>\n",
       "      <td>宜尚酒店厦门机场高科技园店 舒适型 4.5分/5分</td>\n",
       "      <td>商务大床房 大床 双早 1间2晚</td>\n",
       "      <td>西藏航空 TV9869</td>\n",
       "      <td>直飞</td>\n",
       "      <td>18:35-21:10</td>\n",
       "      <td>厦门航空 MF8403</td>\n",
       "      <td>经停</td>\n",
       "      <td>06:50-10:45</td>\n",
       "    </tr>\n",
       "    <tr>\n",
       "      <th>13</th>\n",
       "      <td>杭州</td>\n",
       "      <td>西双版纳</td>\n",
       "      <td>1665.0</td>\n",
       "      <td>516.0</td>\n",
       "      <td>杭州-西双版纳3天2晚 | 入住西双版纳辉煌都畅大饭店 + 长龙航空/首都航空往...</td>\n",
       "      <td>西双版纳辉煌都畅大饭店 3.9分/5分</td>\n",
       "      <td>高级双床房[无早] 双床 不含早 1间2晚</td>\n",
       "      <td>长龙航空 GJ8823</td>\n",
       "      <td>经停</td>\n",
       "      <td>13:55-18:55</td>\n",
       "      <td>首都航空 JD5788</td>\n",
       "      <td>直飞</td>\n",
       "      <td>21:40-00:50</td>\n",
       "    </tr>\n",
       "    <tr>\n",
       "      <th>14</th>\n",
       "      <td>青岛</td>\n",
       "      <td>长沙</td>\n",
       "      <td>1784.0</td>\n",
       "      <td>450.0</td>\n",
       "      <td>青岛-长沙3天2晚 | 入住林之源酒店长沙井湾子店 + 青岛航/幸福航空往返机票</td>\n",
       "      <td>林之源酒店长沙井湾子店 舒适型 4.3分/5分</td>\n",
       "      <td>标准双人间(双床) 双床 不含早 1间2晚</td>\n",
       "      <td>青岛航 QW9775</td>\n",
       "      <td>直飞</td>\n",
       "      <td>06:20-08:40</td>\n",
       "      <td>幸福航空 JR2769</td>\n",
       "      <td>直飞</td>\n",
       "      <td>06:40-09:05</td>\n",
       "    </tr>\n",
       "  </tbody>\n",
       "</table>\n",
       "</div>"
      ],
      "text/plain": [
       "    出发地   目的地      价格     节省                                          路线名  \\\n",
       "0   哈尔滨    北海  2208.0  650.0         哈尔滨-北海3天2晚 | 入住北海祥丰嘉年华大酒店 + 春秋航空往返机票   \n",
       "1    成都   泸沽湖  1145.0  376.0        成都-泸沽湖3天2晚 | 入住7天酒店丽江古城中心店 + 成都航空往返机票   \n",
       "2    广州    沈阳  2702.0  618.0         广州-沈阳3天2晚 | 入住沈阳中煤宾馆 + 南方航空/深圳航空往返机票   \n",
       "3    上海   九寨沟  1954.0  484.0            上海-九寨沟3天2晚 | 入住红原芸谊大酒店 + 成都航空往返机票   \n",
       "4    广州    天津  1608.0  422.0      广州-天津3天2晚 | 入住天津逸海明珠大酒店 + 奥凯航空/海南航空往返机票   \n",
       "5    长春    青岛  1580.0  390.0           长春-青岛3天2晚 | 入住青岛康大豪生大酒店 + 南方航空往返机票   \n",
       "6    济南   九寨沟  1625.0  396.0      济南-九寨沟3天2晚 | 入住阿坝松潘松林酒店 + 中国国航/成都航空往返机票   \n",
       "7    宁波    重庆  1673.0  404.0  宁波-重庆3天2晚 | 入住重庆运通假日酒店汽博中心店 + 南方航空/四川航空往...   \n",
       "8   哈尔滨    南京  1170.0  340.0  哈尔滨-南京3天2晚 | 入住维也纳酒店南京南站汇景店 + 吉祥航空/厦门航空往...   \n",
       "9    深圳    厦门  1311.0  350.0       深圳-厦门3天2晚 | 入住厦门泊旅时尚酒店会展中心店 + 海南航空往返机票   \n",
       "10   厦门    沈阳  2231.0  606.0     厦门-沈阳3天2晚 | 入住沈阳东方银座国际酒店 + 深圳航空/海南航空往返机票   \n",
       "11  哈尔滨    长沙     NaN  472.0      哈尔滨-长沙3天2晚 | 入住长沙艾玛连锁酒店 + 海南航空/奥凯航空往返机票   \n",
       "12   重庆    厦门  1780.0  486.0  重庆-厦门3天2晚 | 入住宜尚酒店厦门机场高科技园店 + 西藏航空/厦门航空往...   \n",
       "13   杭州  西双版纳  1665.0  516.0  杭州-西双版纳3天2晚 | 入住西双版纳辉煌都畅大饭店 + 长龙航空/首都航空往...   \n",
       "14   青岛    长沙  1784.0  450.0     青岛-长沙3天2晚 | 入住林之源酒店长沙井湾子店 + 青岛航/幸福航空往返机票   \n",
       "\n",
       "                           酒店                          房间         去程航司 去程方式  \\\n",
       "0      北海祥丰嘉年华大酒店 舒适型 4.7分/5分       标准双人间(双床) 双床 不含早 1间2晚  春秋航空 9C8741   直飞   \n",
       "1     7天酒店丽江古城中心店 经济型 4.0分/5分  经济房-不含早-限时特... 其他 不含早 1间2晚  成都航空 EU2237   直飞   \n",
       "2          沈阳中煤宾馆 舒适型 4.5分/5分          大床间(内宾) 大床 双早 1间2晚  南方航空 CZ6384   直飞   \n",
       "3         红原芸谊大酒店 舒适型 4.6分/5分        豪华双床房[双早] 双床 双早 1间2晚  成都航空 EU6678   直飞   \n",
       "4       天津逸海明珠大酒店 高档型 4.1分/5分       豪华双床房(预付) 双床 不含早 1间2晚  奥凯航空 BK2787   直飞   \n",
       "5       青岛康大豪生大酒店 豪华型 4.6分/5分  精选房(大床)[酒店★... 大床 不含早 1间2晚  南方航空 CZ3938   直飞   \n",
       "6        阿坝松潘松林酒店 舒适型 4.3分/5分       豪华标准间(双床) 双床 不含早 1间2晚  中国国航 CA4528   直飞   \n",
       "7   重庆运通假日酒店汽博中心店 舒适型 4.3分/5分          特惠房(大床) 大床 双早 1间2晚  南方航空 CZ8116   直飞   \n",
       "8    维也纳酒店南京南站汇景店 舒适型 4.4分/5分   特惠大床房（无窗）[双... 大床 双早 1间2晚  吉祥航空 HO1651   直飞   \n",
       "9   厦门泊旅时尚酒店会展中心店 舒适型 4.0分/5分          时尚标准双床房 双床 双早 1间2晚  海南航空 HU7065   直飞   \n",
       "10     沈阳东方银座国际酒店 高档型 4.4分/5分  高级大床房(空气清新房... 大床 不含早 1间2晚  深圳航空 ZH9704   经停   \n",
       "11       长沙艾玛连锁酒店 舒适型 3.7分/5分  豪华双人间-不含早（预... 双床 不含早 1间2晚  海南航空 HU7726   经停   \n",
       "12  宜尚酒店厦门机场高科技园店 舒适型 4.5分/5分            商务大床房 大床 双早 1间2晚  西藏航空 TV9869   直飞   \n",
       "13        西双版纳辉煌都畅大饭店 3.9分/5分       高级双床房[无早] 双床 不含早 1间2晚  长龙航空 GJ8823   经停   \n",
       "14    林之源酒店长沙井湾子店 舒适型 4.3分/5分       标准双人间(双床) 双床 不含早 1间2晚   青岛航 QW9775   直飞   \n",
       "\n",
       "           去程时间         回程航司 回程方式         回程时间  \n",
       "0   17:10-21:50  春秋航空 9C8742   直飞  10:20-15:05  \n",
       "1   19:45-21:20  成都航空 EU2738   直飞  23:30-01:05  \n",
       "2   08:05-11:45  深圳航空 ZH9652   经停  08:20-13:05  \n",
       "3   21:55-01:15  成都航空 EU6677   直飞  17:45-20:35  \n",
       "4   06:55-10:00  海南航空 HU7201   直飞  20:15-23:25  \n",
       "5   20:00-21:55  南方航空 CZ3963   直飞  15:40-17:30  \n",
       "6   21:00-23:30  成都航空 EU2719   直飞  06:55-09:25  \n",
       "7   17:15-19:40  四川航空 3U8983   直飞  06:55-09:35  \n",
       "8   17:10-20:00  厦门航空 MF8067   直飞  19:40-22:25  \n",
       "9   07:30-08:40  海南航空 HU7066   直飞  15:30-16:40  \n",
       "10  17:20-22:10  海南航空 HU7048   直飞  14:15-17:45  \n",
       "11  16:25-22:05  奥凯航空 BK2849   经停  07:15-12:50  \n",
       "12  18:35-21:10  厦门航空 MF8403   经停  06:50-10:45  \n",
       "13  13:55-18:55  首都航空 JD5788   直飞  21:40-00:50  \n",
       "14  06:20-08:40  幸福航空 JR2769   直飞  06:40-09:05  "
      ]
     },
     "execution_count": 19,
     "metadata": {},
     "output_type": "execute_result"
    }
   ],
   "source": [
    "# 探索异常值情况\n",
    "df.head(15)"
   ]
  },
  {
   "cell_type": "code",
   "execution_count": 20,
   "metadata": {
    "scrolled": true
   },
   "outputs": [
    {
     "data": {
      "text/plain": [
       "4951"
      ]
     },
     "execution_count": 20,
     "metadata": {},
     "output_type": "execute_result"
    }
   ],
   "source": [
    "(df.价格>df.节省).sum()"
   ]
  },
  {
   "cell_type": "markdown",
   "metadata": {},
   "source": [
    "价格大于节省符合常理，反之则为异常。以上数据说明有48行票价优惠比原价高，不合常理，判断为异常值，数据较少，在此处直接去除。"
   ]
  },
  {
   "cell_type": "code",
   "execution_count": 21,
   "metadata": {},
   "outputs": [],
   "source": [
    "# 删除节省列异常值\n",
    "df.drop(df[df.价格<df.节省].index,inplace=True)"
   ]
  },
  {
   "cell_type": "markdown",
   "metadata": {},
   "source": [
    "### 检验删除异常值后的数据基本特征"
   ]
  },
  {
   "cell_type": "code",
   "execution_count": 22,
   "metadata": {},
   "outputs": [
    {
     "data": {
      "text/html": [
       "<div>\n",
       "<style scoped>\n",
       "    .dataframe tbody tr th:only-of-type {\n",
       "        vertical-align: middle;\n",
       "    }\n",
       "\n",
       "    .dataframe tbody tr th {\n",
       "        vertical-align: top;\n",
       "    }\n",
       "\n",
       "    .dataframe thead th {\n",
       "        text-align: right;\n",
       "    }\n",
       "</style>\n",
       "<table border=\"1\" class=\"dataframe\">\n",
       "  <thead>\n",
       "    <tr style=\"text-align: right;\">\n",
       "      <th></th>\n",
       "      <th>价格</th>\n",
       "      <th>节省</th>\n",
       "    </tr>\n",
       "  </thead>\n",
       "  <tbody>\n",
       "    <tr>\n",
       "      <th>count</th>\n",
       "      <td>4968.000000</td>\n",
       "      <td>4979.000000</td>\n",
       "    </tr>\n",
       "    <tr>\n",
       "      <th>mean</th>\n",
       "      <td>1732.514090</td>\n",
       "      <td>472.779675</td>\n",
       "    </tr>\n",
       "    <tr>\n",
       "      <th>std</th>\n",
       "      <td>653.148583</td>\n",
       "      <td>154.366206</td>\n",
       "    </tr>\n",
       "    <tr>\n",
       "      <th>min</th>\n",
       "      <td>578.000000</td>\n",
       "      <td>306.000000</td>\n",
       "    </tr>\n",
       "    <tr>\n",
       "      <th>25%</th>\n",
       "      <td>1253.750000</td>\n",
       "      <td>358.000000</td>\n",
       "    </tr>\n",
       "    <tr>\n",
       "      <th>50%</th>\n",
       "      <td>1633.000000</td>\n",
       "      <td>436.000000</td>\n",
       "    </tr>\n",
       "    <tr>\n",
       "      <th>75%</th>\n",
       "      <td>2031.000000</td>\n",
       "      <td>530.000000</td>\n",
       "    </tr>\n",
       "    <tr>\n",
       "      <th>max</th>\n",
       "      <td>6279.000000</td>\n",
       "      <td>1640.000000</td>\n",
       "    </tr>\n",
       "  </tbody>\n",
       "</table>\n",
       "</div>"
      ],
      "text/plain": [
       "                价格           节省\n",
       "count  4968.000000  4979.000000\n",
       "mean   1732.514090   472.779675\n",
       "std     653.148583   154.366206\n",
       "min     578.000000   306.000000\n",
       "25%    1253.750000   358.000000\n",
       "50%    1633.000000   436.000000\n",
       "75%    2031.000000   530.000000\n",
       "max    6279.000000  1640.000000"
      ]
     },
     "execution_count": 22,
     "metadata": {},
     "output_type": "execute_result"
    }
   ],
   "source": [
    "df.describe()"
   ]
  },
  {
   "cell_type": "markdown",
   "metadata": {},
   "source": [
    "## 缺失值处理"
   ]
  },
  {
   "cell_type": "markdown",
   "metadata": {},
   "source": [
    "### 查看缺失值情况"
   ]
  },
  {
   "cell_type": "code",
   "execution_count": 23,
   "metadata": {},
   "outputs": [
    {
     "data": {
      "text/plain": [
       "出发地      2\n",
       "目的地      1\n",
       "价格      28\n",
       "节省      17\n",
       "路线名      0\n",
       "酒店       0\n",
       "房间       0\n",
       "去程航司     0\n",
       "去程方式     0\n",
       "去程时间     0\n",
       "回程航司     0\n",
       "回程方式     0\n",
       "回程时间     0\n",
       "dtype: int64"
      ]
     },
     "execution_count": 23,
     "metadata": {},
     "output_type": "execute_result"
    }
   ],
   "source": [
    "df.isnull().sum()"
   ]
  },
  {
   "cell_type": "markdown",
   "metadata": {},
   "source": [
    "### “出发地”缺失值处理"
   ]
  },
  {
   "cell_type": "code",
   "execution_count": 24,
   "metadata": {},
   "outputs": [
    {
     "data": {
      "text/html": [
       "<div>\n",
       "<style scoped>\n",
       "    .dataframe tbody tr th:only-of-type {\n",
       "        vertical-align: middle;\n",
       "    }\n",
       "\n",
       "    .dataframe tbody tr th {\n",
       "        vertical-align: top;\n",
       "    }\n",
       "\n",
       "    .dataframe thead th {\n",
       "        text-align: right;\n",
       "    }\n",
       "</style>\n",
       "<table border=\"1\" class=\"dataframe\">\n",
       "  <thead>\n",
       "    <tr style=\"text-align: right;\">\n",
       "      <th></th>\n",
       "      <th>出发地</th>\n",
       "      <th>目的地</th>\n",
       "      <th>价格</th>\n",
       "      <th>节省</th>\n",
       "      <th>路线名</th>\n",
       "      <th>酒店</th>\n",
       "      <th>房间</th>\n",
       "      <th>去程航司</th>\n",
       "      <th>去程方式</th>\n",
       "      <th>去程时间</th>\n",
       "      <th>回程航司</th>\n",
       "      <th>回程方式</th>\n",
       "      <th>回程时间</th>\n",
       "    </tr>\n",
       "  </thead>\n",
       "  <tbody>\n",
       "    <tr>\n",
       "      <th>1864</th>\n",
       "      <td>NaN</td>\n",
       "      <td>烟台</td>\n",
       "      <td>647.0</td>\n",
       "      <td>348.0</td>\n",
       "      <td>大连-烟台3天2晚 | 入住烟台海阳黄金海岸大酒店 + 幸福航空/天津航空往返机票</td>\n",
       "      <td>烟台海阳黄金海岸大酒店 3.7分/5分</td>\n",
       "      <td>海景标准间(内宾)[双... 双床 双早 1间2晚</td>\n",
       "      <td>幸福航空 JR1582</td>\n",
       "      <td>直飞</td>\n",
       "      <td>10:05-11:05</td>\n",
       "      <td>天津航空 GS6402</td>\n",
       "      <td>直飞</td>\n",
       "      <td>16:30-17:25</td>\n",
       "    </tr>\n",
       "    <tr>\n",
       "      <th>1930</th>\n",
       "      <td>NaN</td>\n",
       "      <td>西安</td>\n",
       "      <td>1030.0</td>\n",
       "      <td>326.0</td>\n",
       "      <td>济南-西安3天2晚 | 入住西安丝路秦国际青年旅舍钟楼回民街店 + 华夏航空往返...</td>\n",
       "      <td>西安丝路秦国际青年旅舍钟楼回民街店 经济型 4.4分/5分</td>\n",
       "      <td>标准间（独卫）-吃货天... 双床 不含早 1间2晚</td>\n",
       "      <td>华夏航空 G54963</td>\n",
       "      <td>直飞</td>\n",
       "      <td>07:10-08:55</td>\n",
       "      <td>华夏航空 G58858</td>\n",
       "      <td>直飞</td>\n",
       "      <td>23:10-00:55</td>\n",
       "    </tr>\n",
       "  </tbody>\n",
       "</table>\n",
       "</div>"
      ],
      "text/plain": [
       "      出发地 目的地      价格     节省                                          路线名  \\\n",
       "1864  NaN  烟台   647.0  348.0    大连-烟台3天2晚 | 入住烟台海阳黄金海岸大酒店 + 幸福航空/天津航空往返机票   \n",
       "1930  NaN  西安  1030.0  326.0  济南-西安3天2晚 | 入住西安丝路秦国际青年旅舍钟楼回民街店 + 华夏航空往返...   \n",
       "\n",
       "                                 酒店                          房间         去程航司  \\\n",
       "1864            烟台海阳黄金海岸大酒店 3.7分/5分   海景标准间(内宾)[双... 双床 双早 1间2晚  幸福航空 JR1582   \n",
       "1930  西安丝路秦国际青年旅舍钟楼回民街店 经济型 4.4分/5分  标准间（独卫）-吃货天... 双床 不含早 1间2晚  华夏航空 G54963   \n",
       "\n",
       "     去程方式         去程时间         回程航司 回程方式         回程时间  \n",
       "1864   直飞  10:05-11:05  天津航空 GS6402   直飞  16:30-17:25  \n",
       "1930   直飞  07:10-08:55  华夏航空 G58858   直飞  23:10-00:55  "
      ]
     },
     "execution_count": 24,
     "metadata": {},
     "output_type": "execute_result"
    }
   ],
   "source": [
    "# 展示“出发地”有缺失值的记录\n",
    "df[df.出发地.isnull()]"
   ]
  },
  {
   "cell_type": "code",
   "execution_count": 25,
   "metadata": {},
   "outputs": [],
   "source": [
    "# 补充路线名的缺失值\n",
    "# 路线名的前两个字为出发地\n",
    "df.loc[df.出发地.isnull(),\"出发地\"] =  [x[:2] for x in df.loc[df.出发地.isnull(),\"路线名\"]]"
   ]
  },
  {
   "cell_type": "code",
   "execution_count": 26,
   "metadata": {},
   "outputs": [
    {
     "data": {
      "text/plain": [
       "0"
      ]
     },
     "execution_count": 26,
     "metadata": {},
     "output_type": "execute_result"
    }
   ],
   "source": [
    "# 再查看\n",
    "df.出发地.isnull().sum()"
   ]
  },
  {
   "cell_type": "markdown",
   "metadata": {},
   "source": [
    "### “目的地”缺失值处理"
   ]
  },
  {
   "cell_type": "code",
   "execution_count": 27,
   "metadata": {},
   "outputs": [
    {
     "data": {
      "text/html": [
       "<div>\n",
       "<style scoped>\n",
       "    .dataframe tbody tr th:only-of-type {\n",
       "        vertical-align: middle;\n",
       "    }\n",
       "\n",
       "    .dataframe tbody tr th {\n",
       "        vertical-align: top;\n",
       "    }\n",
       "\n",
       "    .dataframe thead th {\n",
       "        text-align: right;\n",
       "    }\n",
       "</style>\n",
       "<table border=\"1\" class=\"dataframe\">\n",
       "  <thead>\n",
       "    <tr style=\"text-align: right;\">\n",
       "      <th></th>\n",
       "      <th>出发地</th>\n",
       "      <th>目的地</th>\n",
       "      <th>价格</th>\n",
       "      <th>节省</th>\n",
       "      <th>路线名</th>\n",
       "      <th>酒店</th>\n",
       "      <th>房间</th>\n",
       "      <th>去程航司</th>\n",
       "      <th>去程方式</th>\n",
       "      <th>去程时间</th>\n",
       "      <th>回程航司</th>\n",
       "      <th>回程方式</th>\n",
       "      <th>回程时间</th>\n",
       "    </tr>\n",
       "  </thead>\n",
       "  <tbody>\n",
       "    <tr>\n",
       "      <th>1875</th>\n",
       "      <td>深圳</td>\n",
       "      <td>NaN</td>\n",
       "      <td>2149.0</td>\n",
       "      <td>494.0</td>\n",
       "      <td>深圳-大连3天2晚 | 入住大连黄金山大酒店 + 南方航空/东海往返机票</td>\n",
       "      <td>大连黄金山大酒店 舒适型 3.4分/5分</td>\n",
       "      <td>标准间 大/双床 不含早 1间2晚</td>\n",
       "      <td>南方航空 CZ6833</td>\n",
       "      <td>直飞</td>\n",
       "      <td>09:10-12:40</td>\n",
       "      <td>东海 DZ6242</td>\n",
       "      <td>经停</td>\n",
       "      <td>12:40-18:00</td>\n",
       "    </tr>\n",
       "  </tbody>\n",
       "</table>\n",
       "</div>"
      ],
      "text/plain": [
       "     出发地  目的地      价格     节省                                   路线名  \\\n",
       "1875  深圳  NaN  2149.0  494.0  深圳-大连3天2晚 | 入住大连黄金山大酒店 + 南方航空/东海往返机票   \n",
       "\n",
       "                        酒店                 房间         去程航司 去程方式         去程时间  \\\n",
       "1875  大连黄金山大酒店 舒适型 3.4分/5分  标准间 大/双床 不含早 1间2晚  南方航空 CZ6833   直飞  09:10-12:40   \n",
       "\n",
       "           回程航司 回程方式         回程时间  \n",
       "1875  东海 DZ6242   经停  12:40-18:00  "
      ]
     },
     "execution_count": 27,
     "metadata": {},
     "output_type": "execute_result"
    }
   ],
   "source": [
    "# 展示“目的地”有缺失值的记录\n",
    "df[df.目的地.isnull()]"
   ]
  },
  {
   "cell_type": "code",
   "execution_count": 28,
   "metadata": {},
   "outputs": [],
   "source": [
    "# 补充目的地缺失值\n",
    "df.loc[df.目的地.isnull(),'目的地'] = '大连'"
   ]
  },
  {
   "cell_type": "code",
   "execution_count": 29,
   "metadata": {},
   "outputs": [
    {
     "data": {
      "text/plain": [
       "0"
      ]
     },
     "execution_count": 29,
     "metadata": {},
     "output_type": "execute_result"
    }
   ],
   "source": [
    "# 再查看\n",
    "df.目的地.isnull().sum()"
   ]
  },
  {
   "cell_type": "code",
   "execution_count": 30,
   "metadata": {},
   "outputs": [
    {
     "data": {
      "text/html": [
       "<div>\n",
       "<style scoped>\n",
       "    .dataframe tbody tr th:only-of-type {\n",
       "        vertical-align: middle;\n",
       "    }\n",
       "\n",
       "    .dataframe tbody tr th {\n",
       "        vertical-align: top;\n",
       "    }\n",
       "\n",
       "    .dataframe thead th {\n",
       "        text-align: right;\n",
       "    }\n",
       "</style>\n",
       "<table border=\"1\" class=\"dataframe\">\n",
       "  <thead>\n",
       "    <tr style=\"text-align: right;\">\n",
       "      <th></th>\n",
       "      <th>出发地</th>\n",
       "      <th>目的地</th>\n",
       "      <th>价格</th>\n",
       "      <th>节省</th>\n",
       "      <th>路线名</th>\n",
       "      <th>酒店</th>\n",
       "      <th>房间</th>\n",
       "      <th>去程航司</th>\n",
       "      <th>去程方式</th>\n",
       "      <th>去程时间</th>\n",
       "      <th>回程航司</th>\n",
       "      <th>回程方式</th>\n",
       "      <th>回程时间</th>\n",
       "    </tr>\n",
       "  </thead>\n",
       "  <tbody>\n",
       "  </tbody>\n",
       "</table>\n",
       "</div>"
      ],
      "text/plain": [
       "Empty DataFrame\n",
       "Columns: [出发地, 目的地, 价格, 节省, 路线名, 酒店, 房间, 去程航司, 去程方式, 去程时间, 回程航司, 回程方式, 回程时间]\n",
       "Index: []"
      ]
     },
     "execution_count": 30,
     "metadata": {},
     "output_type": "execute_result"
    }
   ],
   "source": [
    "# 检验价格缺失值的记录是否清洗完成\n",
    "df[df.目的地.isnull()]"
   ]
  },
  {
   "cell_type": "markdown",
   "metadata": {},
   "source": [
    "### “价格”和“节省”缺失值处理"
   ]
  },
  {
   "cell_type": "code",
   "execution_count": 31,
   "metadata": {},
   "outputs": [
    {
     "data": {
      "text/plain": [
       "<matplotlib.axes._subplots.AxesSubplot at 0x7f9ac02c5710>"
      ]
     },
     "execution_count": 31,
     "metadata": {},
     "output_type": "execute_result"
    },
    {
     "data": {
      "image/png": "[encoded data removed]",
      "text/plain": [
       "<Figure size 432x288 with 1 Axes>"
      ]
     },
     "metadata": {
      "needs_background": "light"
     },
     "output_type": "display_data"
    }
   ],
   "source": [
    "# 先绘图看看数据分布情况\n",
    "sns.distplot(df['价格'].dropna(), kde = True)"
   ]
  },
  {
   "cell_type": "code",
   "execution_count": 32,
   "metadata": {},
   "outputs": [
    {
     "data": {
      "text/plain": [
       "<matplotlib.axes._subplots.AxesSubplot at 0x7f9af8d11c50>"
      ]
     },
     "execution_count": 32,
     "metadata": {},
     "output_type": "execute_result"
    },
    {
     "data": {
      "image/png": "[encoded data removed]",
      "text/plain": [
       "<Figure size 432x288 with 1 Axes>"
      ]
     },
     "metadata": {
      "needs_background": "light"
     },
     "output_type": "display_data"
    }
   ],
   "source": [
    "sns.distplot(df['节省'].dropna(), kde = True)"
   ]
  },
  {
   "cell_type": "markdown",
   "metadata": {},
   "source": [
    "可以看出，价格和节省两列数据均呈右偏分布，缺失值不多，用中位数填充较好。"
   ]
  },
  {
   "cell_type": "code",
   "execution_count": 33,
   "metadata": {},
   "outputs": [],
   "source": [
    "df['价格'].fillna(round(df['价格'].median(),0), inplace = True)\n",
    "df['节省'].fillna(round(df['节省'].median(),0), inplace = True)"
   ]
  },
  {
   "cell_type": "markdown",
   "metadata": {},
   "source": [
    "### 检验缺失值处理完成情况"
   ]
  },
  {
   "cell_type": "code",
   "execution_count": 34,
   "metadata": {},
   "outputs": [
    {
     "data": {
      "text/plain": [
       "出发地     0\n",
       "目的地     0\n",
       "价格      0\n",
       "节省      0\n",
       "路线名     0\n",
       "酒店      0\n",
       "房间      0\n",
       "去程航司    0\n",
       "去程方式    0\n",
       "去程时间    0\n",
       "回程航司    0\n",
       "回程方式    0\n",
       "回程时间    0\n",
       "dtype: int64"
      ]
     },
     "execution_count": 34,
     "metadata": {},
     "output_type": "execute_result"
    }
   ],
   "source": [
    "df.isnull().sum()"
   ]
  },
  {
   "cell_type": "markdown",
   "metadata": {},
   "source": [
    "所有行的缺失值已处理完毕。"
   ]
  },
  {
   "cell_type": "markdown",
   "metadata": {},
   "source": [
    "> 至此数据清洗基本处理完毕，我们看到路线名里包含的信息比较丰富，接下来还可以提取居停时间和居住酒店信息出来，做进一步分析。"
   ]
  },
  {
   "cell_type": "markdown",
   "metadata": {},
   "source": [
    "## 文本型数据的处理"
   ]
  },
  {
   "cell_type": "markdown",
   "metadata": {},
   "source": [
    "文本型数据处理多使用正则表达式"
   ]
  },
  {
   "cell_type": "code",
   "execution_count": 35,
   "metadata": {},
   "outputs": [
    {
     "data": {
      "text/html": [
       "<div>\n",
       "<style scoped>\n",
       "    .dataframe tbody tr th:only-of-type {\n",
       "        vertical-align: middle;\n",
       "    }\n",
       "\n",
       "    .dataframe tbody tr th {\n",
       "        vertical-align: top;\n",
       "    }\n",
       "\n",
       "    .dataframe thead th {\n",
       "        text-align: right;\n",
       "    }\n",
       "</style>\n",
       "<table border=\"1\" class=\"dataframe\">\n",
       "  <thead>\n",
       "    <tr style=\"text-align: right;\">\n",
       "      <th></th>\n",
       "      <th>出发地</th>\n",
       "      <th>目的地</th>\n",
       "      <th>价格</th>\n",
       "      <th>节省</th>\n",
       "      <th>路线名</th>\n",
       "      <th>酒店</th>\n",
       "      <th>房间</th>\n",
       "      <th>去程航司</th>\n",
       "      <th>去程方式</th>\n",
       "      <th>去程时间</th>\n",
       "      <th>回程航司</th>\n",
       "      <th>回程方式</th>\n",
       "      <th>回程时间</th>\n",
       "    </tr>\n",
       "  </thead>\n",
       "  <tbody>\n",
       "    <tr>\n",
       "      <th>0</th>\n",
       "      <td>哈尔滨</td>\n",
       "      <td>北海</td>\n",
       "      <td>2208.0</td>\n",
       "      <td>650.0</td>\n",
       "      <td>哈尔滨-北海3天2晚 | 入住北海祥丰嘉年华大酒店 + 春秋航空往返机票</td>\n",
       "      <td>北海祥丰嘉年华大酒店 舒适型 4.7分/5分</td>\n",
       "      <td>标准双人间(双床) 双床 不含早 1间2晚</td>\n",
       "      <td>春秋航空 9C8741</td>\n",
       "      <td>直飞</td>\n",
       "      <td>17:10-21:50</td>\n",
       "      <td>春秋航空 9C8742</td>\n",
       "      <td>直飞</td>\n",
       "      <td>10:20-15:05</td>\n",
       "    </tr>\n",
       "    <tr>\n",
       "      <th>1</th>\n",
       "      <td>成都</td>\n",
       "      <td>泸沽湖</td>\n",
       "      <td>1145.0</td>\n",
       "      <td>376.0</td>\n",
       "      <td>成都-泸沽湖3天2晚 | 入住7天酒店丽江古城中心店 + 成都航空往返机票</td>\n",
       "      <td>7天酒店丽江古城中心店 经济型 4.0分/5分</td>\n",
       "      <td>经济房-不含早-限时特... 其他 不含早 1间2晚</td>\n",
       "      <td>成都航空 EU2237</td>\n",
       "      <td>直飞</td>\n",
       "      <td>19:45-21:20</td>\n",
       "      <td>成都航空 EU2738</td>\n",
       "      <td>直飞</td>\n",
       "      <td>23:30-01:05</td>\n",
       "    </tr>\n",
       "    <tr>\n",
       "      <th>2</th>\n",
       "      <td>广州</td>\n",
       "      <td>沈阳</td>\n",
       "      <td>2702.0</td>\n",
       "      <td>618.0</td>\n",
       "      <td>广州-沈阳3天2晚 | 入住沈阳中煤宾馆 + 南方航空/深圳航空往返机票</td>\n",
       "      <td>沈阳中煤宾馆 舒适型 4.5分/5分</td>\n",
       "      <td>大床间(内宾) 大床 双早 1间2晚</td>\n",
       "      <td>南方航空 CZ6384</td>\n",
       "      <td>直飞</td>\n",
       "      <td>08:05-11:45</td>\n",
       "      <td>深圳航空 ZH9652</td>\n",
       "      <td>经停</td>\n",
       "      <td>08:20-13:05</td>\n",
       "    </tr>\n",
       "    <tr>\n",
       "      <th>3</th>\n",
       "      <td>上海</td>\n",
       "      <td>九寨沟</td>\n",
       "      <td>1954.0</td>\n",
       "      <td>484.0</td>\n",
       "      <td>上海-九寨沟3天2晚 | 入住红原芸谊大酒店 + 成都航空往返机票</td>\n",
       "      <td>红原芸谊大酒店 舒适型 4.6分/5分</td>\n",
       "      <td>豪华双床房[双早] 双床 双早 1间2晚</td>\n",
       "      <td>成都航空 EU6678</td>\n",
       "      <td>直飞</td>\n",
       "      <td>21:55-01:15</td>\n",
       "      <td>成都航空 EU6677</td>\n",
       "      <td>直飞</td>\n",
       "      <td>17:45-20:35</td>\n",
       "    </tr>\n",
       "    <tr>\n",
       "      <th>4</th>\n",
       "      <td>广州</td>\n",
       "      <td>天津</td>\n",
       "      <td>1608.0</td>\n",
       "      <td>422.0</td>\n",
       "      <td>广州-天津3天2晚 | 入住天津逸海明珠大酒店 + 奥凯航空/海南航空往返机票</td>\n",
       "      <td>天津逸海明珠大酒店 高档型 4.1分/5分</td>\n",
       "      <td>豪华双床房(预付) 双床 不含早 1间2晚</td>\n",
       "      <td>奥凯航空 BK2787</td>\n",
       "      <td>直飞</td>\n",
       "      <td>06:55-10:00</td>\n",
       "      <td>海南航空 HU7201</td>\n",
       "      <td>直飞</td>\n",
       "      <td>20:15-23:25</td>\n",
       "    </tr>\n",
       "    <tr>\n",
       "      <th>5</th>\n",
       "      <td>长春</td>\n",
       "      <td>青岛</td>\n",
       "      <td>1580.0</td>\n",
       "      <td>390.0</td>\n",
       "      <td>长春-青岛3天2晚 | 入住青岛康大豪生大酒店 + 南方航空往返机票</td>\n",
       "      <td>青岛康大豪生大酒店 豪华型 4.6分/5分</td>\n",
       "      <td>精选房(大床)[酒店★... 大床 不含早 1间2晚</td>\n",
       "      <td>南方航空 CZ3938</td>\n",
       "      <td>直飞</td>\n",
       "      <td>20:00-21:55</td>\n",
       "      <td>南方航空 CZ3963</td>\n",
       "      <td>直飞</td>\n",
       "      <td>15:40-17:30</td>\n",
       "    </tr>\n",
       "    <tr>\n",
       "      <th>6</th>\n",
       "      <td>济南</td>\n",
       "      <td>九寨沟</td>\n",
       "      <td>1625.0</td>\n",
       "      <td>396.0</td>\n",
       "      <td>济南-九寨沟3天2晚 | 入住阿坝松潘松林酒店 + 中国国航/成都航空往返机票</td>\n",
       "      <td>阿坝松潘松林酒店 舒适型 4.3分/5分</td>\n",
       "      <td>豪华标准间(双床) 双床 不含早 1间2晚</td>\n",
       "      <td>中国国航 CA4528</td>\n",
       "      <td>直飞</td>\n",
       "      <td>21:00-23:30</td>\n",
       "      <td>成都航空 EU2719</td>\n",
       "      <td>直飞</td>\n",
       "      <td>06:55-09:25</td>\n",
       "    </tr>\n",
       "    <tr>\n",
       "      <th>7</th>\n",
       "      <td>宁波</td>\n",
       "      <td>重庆</td>\n",
       "      <td>1673.0</td>\n",
       "      <td>404.0</td>\n",
       "      <td>宁波-重庆3天2晚 | 入住重庆运通假日酒店汽博中心店 + 南方航空/四川航空往...</td>\n",
       "      <td>重庆运通假日酒店汽博中心店 舒适型 4.3分/5分</td>\n",
       "      <td>特惠房(大床) 大床 双早 1间2晚</td>\n",
       "      <td>南方航空 CZ8116</td>\n",
       "      <td>直飞</td>\n",
       "      <td>17:15-19:40</td>\n",
       "      <td>四川航空 3U8983</td>\n",
       "      <td>直飞</td>\n",
       "      <td>06:55-09:35</td>\n",
       "    </tr>\n",
       "    <tr>\n",
       "      <th>8</th>\n",
       "      <td>哈尔滨</td>\n",
       "      <td>南京</td>\n",
       "      <td>1170.0</td>\n",
       "      <td>340.0</td>\n",
       "      <td>哈尔滨-南京3天2晚 | 入住维也纳酒店南京南站汇景店 + 吉祥航空/厦门航空往...</td>\n",
       "      <td>维也纳酒店南京南站汇景店 舒适型 4.4分/5分</td>\n",
       "      <td>特惠大床房（无窗）[双... 大床 双早 1间2晚</td>\n",
       "      <td>吉祥航空 HO1651</td>\n",
       "      <td>直飞</td>\n",
       "      <td>17:10-20:00</td>\n",
       "      <td>厦门航空 MF8067</td>\n",
       "      <td>直飞</td>\n",
       "      <td>19:40-22:25</td>\n",
       "    </tr>\n",
       "    <tr>\n",
       "      <th>9</th>\n",
       "      <td>深圳</td>\n",
       "      <td>厦门</td>\n",
       "      <td>1311.0</td>\n",
       "      <td>350.0</td>\n",
       "      <td>深圳-厦门3天2晚 | 入住厦门泊旅时尚酒店会展中心店 + 海南航空往返机票</td>\n",
       "      <td>厦门泊旅时尚酒店会展中心店 舒适型 4.0分/5分</td>\n",
       "      <td>时尚标准双床房 双床 双早 1间2晚</td>\n",
       "      <td>海南航空 HU7065</td>\n",
       "      <td>直飞</td>\n",
       "      <td>07:30-08:40</td>\n",
       "      <td>海南航空 HU7066</td>\n",
       "      <td>直飞</td>\n",
       "      <td>15:30-16:40</td>\n",
       "    </tr>\n",
       "  </tbody>\n",
       "</table>\n",
       "</div>"
      ],
      "text/plain": [
       "   出发地  目的地      价格     节省                                          路线名  \\\n",
       "0  哈尔滨   北海  2208.0  650.0         哈尔滨-北海3天2晚 | 入住北海祥丰嘉年华大酒店 + 春秋航空往返机票   \n",
       "1   成都  泸沽湖  1145.0  376.0        成都-泸沽湖3天2晚 | 入住7天酒店丽江古城中心店 + 成都航空往返机票   \n",
       "2   广州   沈阳  2702.0  618.0         广州-沈阳3天2晚 | 入住沈阳中煤宾馆 + 南方航空/深圳航空往返机票   \n",
       "3   上海  九寨沟  1954.0  484.0            上海-九寨沟3天2晚 | 入住红原芸谊大酒店 + 成都航空往返机票   \n",
       "4   广州   天津  1608.0  422.0      广州-天津3天2晚 | 入住天津逸海明珠大酒店 + 奥凯航空/海南航空往返机票   \n",
       "5   长春   青岛  1580.0  390.0           长春-青岛3天2晚 | 入住青岛康大豪生大酒店 + 南方航空往返机票   \n",
       "6   济南  九寨沟  1625.0  396.0      济南-九寨沟3天2晚 | 入住阿坝松潘松林酒店 + 中国国航/成都航空往返机票   \n",
       "7   宁波   重庆  1673.0  404.0  宁波-重庆3天2晚 | 入住重庆运通假日酒店汽博中心店 + 南方航空/四川航空往...   \n",
       "8  哈尔滨   南京  1170.0  340.0  哈尔滨-南京3天2晚 | 入住维也纳酒店南京南站汇景店 + 吉祥航空/厦门航空往...   \n",
       "9   深圳   厦门  1311.0  350.0       深圳-厦门3天2晚 | 入住厦门泊旅时尚酒店会展中心店 + 海南航空往返机票   \n",
       "\n",
       "                          酒店                          房间         去程航司 去程方式  \\\n",
       "0     北海祥丰嘉年华大酒店 舒适型 4.7分/5分       标准双人间(双床) 双床 不含早 1间2晚  春秋航空 9C8741   直飞   \n",
       "1    7天酒店丽江古城中心店 经济型 4.0分/5分  经济房-不含早-限时特... 其他 不含早 1间2晚  成都航空 EU2237   直飞   \n",
       "2         沈阳中煤宾馆 舒适型 4.5分/5分          大床间(内宾) 大床 双早 1间2晚  南方航空 CZ6384   直飞   \n",
       "3        红原芸谊大酒店 舒适型 4.6分/5分        豪华双床房[双早] 双床 双早 1间2晚  成都航空 EU6678   直飞   \n",
       "4      天津逸海明珠大酒店 高档型 4.1分/5分       豪华双床房(预付) 双床 不含早 1间2晚  奥凯航空 BK2787   直飞   \n",
       "5      青岛康大豪生大酒店 豪华型 4.6分/5分  精选房(大床)[酒店★... 大床 不含早 1间2晚  南方航空 CZ3938   直飞   \n",
       "6       阿坝松潘松林酒店 舒适型 4.3分/5分       豪华标准间(双床) 双床 不含早 1间2晚  中国国航 CA4528   直飞   \n",
       "7  重庆运通假日酒店汽博中心店 舒适型 4.3分/5分          特惠房(大床) 大床 双早 1间2晚  南方航空 CZ8116   直飞   \n",
       "8   维也纳酒店南京南站汇景店 舒适型 4.4分/5分   特惠大床房（无窗）[双... 大床 双早 1间2晚  吉祥航空 HO1651   直飞   \n",
       "9  厦门泊旅时尚酒店会展中心店 舒适型 4.0分/5分          时尚标准双床房 双床 双早 1间2晚  海南航空 HU7065   直飞   \n",
       "\n",
       "          去程时间         回程航司 回程方式         回程时间  \n",
       "0  17:10-21:50  春秋航空 9C8742   直飞  10:20-15:05  \n",
       "1  19:45-21:20  成都航空 EU2738   直飞  23:30-01:05  \n",
       "2  08:05-11:45  深圳航空 ZH9652   经停  08:20-13:05  \n",
       "3  21:55-01:15  成都航空 EU6677   直飞  17:45-20:35  \n",
       "4  06:55-10:00  海南航空 HU7201   直飞  20:15-23:25  \n",
       "5  20:00-21:55  南方航空 CZ3963   直飞  15:40-17:30  \n",
       "6  21:00-23:30  成都航空 EU2719   直飞  06:55-09:25  \n",
       "7  17:15-19:40  四川航空 3U8983   直飞  06:55-09:35  \n",
       "8  17:10-20:00  厦门航空 MF8067   直飞  19:40-22:25  \n",
       "9  07:30-08:40  海南航空 HU7066   直飞  15:30-16:40  "
      ]
     },
     "execution_count": 35,
     "metadata": {},
     "output_type": "execute_result"
    }
   ],
   "source": [
    "df.head(10)"
   ]
  },
  {
   "cell_type": "markdown",
   "metadata": {},
   "source": [
    "我们还想知道每个预定对应者在旅游地停留的天数，需要从文本特征中提取形如 “3天” 这样的字符串。"
   ]
  },
  {
   "cell_type": "markdown",
   "metadata": {},
   "source": [
    "    1）可以利用 str.extract() 方法。\n",
    "    2）利用正则表达式 (\\d+)天\\d晚 进行匹配"
   ]
  },
  {
   "cell_type": "code",
   "execution_count": 36,
   "metadata": {},
   "outputs": [],
   "source": [
    "# 提取天数\n",
    "df['天数'] = df['路线名'].str.extract('(\\d+)天\\d晚', expand = False)"
   ]
  },
  {
   "cell_type": "markdown",
   "metadata": {},
   "source": [
    "同时，还想知道预定酒店的等级和对应评分。同样使用 str.extract()方法。"
   ]
  },
  {
   "cell_type": "code",
   "execution_count": 37,
   "metadata": {},
   "outputs": [],
   "source": [
    "# 提取酒店等级\n",
    "df['酒店等级'] = df['酒店'].str.extract(' (.+) ', expand = False)"
   ]
  },
  {
   "cell_type": "code",
   "execution_count": 38,
   "metadata": {},
   "outputs": [],
   "source": [
    "# 提取酒店评分\n",
    "df['酒店评分'] = df['酒店'].str.extract('(\\d\\.\\d)分/5分',expand=False)"
   ]
  },
  {
   "cell_type": "code",
   "execution_count": 39,
   "metadata": {},
   "outputs": [
    {
     "data": {
      "text/html": [
       "<div>\n",
       "<style scoped>\n",
       "    .dataframe tbody tr th:only-of-type {\n",
       "        vertical-align: middle;\n",
       "    }\n",
       "\n",
       "    .dataframe tbody tr th {\n",
       "        vertical-align: top;\n",
       "    }\n",
       "\n",
       "    .dataframe thead th {\n",
       "        text-align: right;\n",
       "    }\n",
       "</style>\n",
       "<table border=\"1\" class=\"dataframe\">\n",
       "  <thead>\n",
       "    <tr style=\"text-align: right;\">\n",
       "      <th></th>\n",
       "      <th>出发地</th>\n",
       "      <th>目的地</th>\n",
       "      <th>价格</th>\n",
       "      <th>节省</th>\n",
       "      <th>路线名</th>\n",
       "      <th>酒店</th>\n",
       "      <th>房间</th>\n",
       "      <th>去程航司</th>\n",
       "      <th>去程方式</th>\n",
       "      <th>去程时间</th>\n",
       "      <th>回程航司</th>\n",
       "      <th>回程方式</th>\n",
       "      <th>回程时间</th>\n",
       "      <th>天数</th>\n",
       "      <th>酒店等级</th>\n",
       "      <th>酒店评分</th>\n",
       "    </tr>\n",
       "  </thead>\n",
       "  <tbody>\n",
       "    <tr>\n",
       "      <th>0</th>\n",
       "      <td>哈尔滨</td>\n",
       "      <td>北海</td>\n",
       "      <td>2208.0</td>\n",
       "      <td>650.0</td>\n",
       "      <td>哈尔滨-北海3天2晚 | 入住北海祥丰嘉年华大酒店 + 春秋航空往返机票</td>\n",
       "      <td>北海祥丰嘉年华大酒店 舒适型 4.7分/5分</td>\n",
       "      <td>标准双人间(双床) 双床 不含早 1间2晚</td>\n",
       "      <td>春秋航空 9C8741</td>\n",
       "      <td>直飞</td>\n",
       "      <td>17:10-21:50</td>\n",
       "      <td>春秋航空 9C8742</td>\n",
       "      <td>直飞</td>\n",
       "      <td>10:20-15:05</td>\n",
       "      <td>3</td>\n",
       "      <td>舒适型</td>\n",
       "      <td>4.7</td>\n",
       "    </tr>\n",
       "    <tr>\n",
       "      <th>1</th>\n",
       "      <td>成都</td>\n",
       "      <td>泸沽湖</td>\n",
       "      <td>1145.0</td>\n",
       "      <td>376.0</td>\n",
       "      <td>成都-泸沽湖3天2晚 | 入住7天酒店丽江古城中心店 + 成都航空往返机票</td>\n",
       "      <td>7天酒店丽江古城中心店 经济型 4.0分/5分</td>\n",
       "      <td>经济房-不含早-限时特... 其他 不含早 1间2晚</td>\n",
       "      <td>成都航空 EU2237</td>\n",
       "      <td>直飞</td>\n",
       "      <td>19:45-21:20</td>\n",
       "      <td>成都航空 EU2738</td>\n",
       "      <td>直飞</td>\n",
       "      <td>23:30-01:05</td>\n",
       "      <td>3</td>\n",
       "      <td>经济型</td>\n",
       "      <td>4.0</td>\n",
       "    </tr>\n",
       "    <tr>\n",
       "      <th>2</th>\n",
       "      <td>广州</td>\n",
       "      <td>沈阳</td>\n",
       "      <td>2702.0</td>\n",
       "      <td>618.0</td>\n",
       "      <td>广州-沈阳3天2晚 | 入住沈阳中煤宾馆 + 南方航空/深圳航空往返机票</td>\n",
       "      <td>沈阳中煤宾馆 舒适型 4.5分/5分</td>\n",
       "      <td>大床间(内宾) 大床 双早 1间2晚</td>\n",
       "      <td>南方航空 CZ6384</td>\n",
       "      <td>直飞</td>\n",
       "      <td>08:05-11:45</td>\n",
       "      <td>深圳航空 ZH9652</td>\n",
       "      <td>经停</td>\n",
       "      <td>08:20-13:05</td>\n",
       "      <td>3</td>\n",
       "      <td>舒适型</td>\n",
       "      <td>4.5</td>\n",
       "    </tr>\n",
       "    <tr>\n",
       "      <th>3</th>\n",
       "      <td>上海</td>\n",
       "      <td>九寨沟</td>\n",
       "      <td>1954.0</td>\n",
       "      <td>484.0</td>\n",
       "      <td>上海-九寨沟3天2晚 | 入住红原芸谊大酒店 + 成都航空往返机票</td>\n",
       "      <td>红原芸谊大酒店 舒适型 4.6分/5分</td>\n",
       "      <td>豪华双床房[双早] 双床 双早 1间2晚</td>\n",
       "      <td>成都航空 EU6678</td>\n",
       "      <td>直飞</td>\n",
       "      <td>21:55-01:15</td>\n",
       "      <td>成都航空 EU6677</td>\n",
       "      <td>直飞</td>\n",
       "      <td>17:45-20:35</td>\n",
       "      <td>3</td>\n",
       "      <td>舒适型</td>\n",
       "      <td>4.6</td>\n",
       "    </tr>\n",
       "    <tr>\n",
       "      <th>4</th>\n",
       "      <td>广州</td>\n",
       "      <td>天津</td>\n",
       "      <td>1608.0</td>\n",
       "      <td>422.0</td>\n",
       "      <td>广州-天津3天2晚 | 入住天津逸海明珠大酒店 + 奥凯航空/海南航空往返机票</td>\n",
       "      <td>天津逸海明珠大酒店 高档型 4.1分/5分</td>\n",
       "      <td>豪华双床房(预付) 双床 不含早 1间2晚</td>\n",
       "      <td>奥凯航空 BK2787</td>\n",
       "      <td>直飞</td>\n",
       "      <td>06:55-10:00</td>\n",
       "      <td>海南航空 HU7201</td>\n",
       "      <td>直飞</td>\n",
       "      <td>20:15-23:25</td>\n",
       "      <td>3</td>\n",
       "      <td>高档型</td>\n",
       "      <td>4.1</td>\n",
       "    </tr>\n",
       "  </tbody>\n",
       "</table>\n",
       "</div>"
      ],
      "text/plain": [
       "   出发地  目的地      价格     节省                                      路线名  \\\n",
       "0  哈尔滨   北海  2208.0  650.0     哈尔滨-北海3天2晚 | 入住北海祥丰嘉年华大酒店 + 春秋航空往返机票   \n",
       "1   成都  泸沽湖  1145.0  376.0    成都-泸沽湖3天2晚 | 入住7天酒店丽江古城中心店 + 成都航空往返机票   \n",
       "2   广州   沈阳  2702.0  618.0     广州-沈阳3天2晚 | 入住沈阳中煤宾馆 + 南方航空/深圳航空往返机票   \n",
       "3   上海  九寨沟  1954.0  484.0        上海-九寨沟3天2晚 | 入住红原芸谊大酒店 + 成都航空往返机票   \n",
       "4   广州   天津  1608.0  422.0  广州-天津3天2晚 | 入住天津逸海明珠大酒店 + 奥凯航空/海南航空往返机票   \n",
       "\n",
       "                        酒店                          房间         去程航司 去程方式  \\\n",
       "0   北海祥丰嘉年华大酒店 舒适型 4.7分/5分       标准双人间(双床) 双床 不含早 1间2晚  春秋航空 9C8741   直飞   \n",
       "1  7天酒店丽江古城中心店 经济型 4.0分/5分  经济房-不含早-限时特... 其他 不含早 1间2晚  成都航空 EU2237   直飞   \n",
       "2       沈阳中煤宾馆 舒适型 4.5分/5分          大床间(内宾) 大床 双早 1间2晚  南方航空 CZ6384   直飞   \n",
       "3      红原芸谊大酒店 舒适型 4.6分/5分        豪华双床房[双早] 双床 双早 1间2晚  成都航空 EU6678   直飞   \n",
       "4    天津逸海明珠大酒店 高档型 4.1分/5分       豪华双床房(预付) 双床 不含早 1间2晚  奥凯航空 BK2787   直飞   \n",
       "\n",
       "          去程时间         回程航司 回程方式         回程时间 天数 酒店等级 酒店评分  \n",
       "0  17:10-21:50  春秋航空 9C8742   直飞  10:20-15:05  3  舒适型  4.7  \n",
       "1  19:45-21:20  成都航空 EU2738   直飞  23:30-01:05  3  经济型  4.0  \n",
       "2  08:05-11:45  深圳航空 ZH9652   经停  08:20-13:05  3  舒适型  4.5  \n",
       "3  21:55-01:15  成都航空 EU6677   直飞  17:45-20:35  3  舒适型  4.6  \n",
       "4  06:55-10:00  海南航空 HU7201   直飞  20:15-23:25  3  高档型  4.1  "
      ]
     },
     "execution_count": 39,
     "metadata": {},
     "output_type": "execute_result"
    }
   ],
   "source": [
    "# 展示提取出天数、酒店等级、酒店评分的部分记录\n",
    "df.head()"
   ]
  },
  {
   "cell_type": "markdown",
   "metadata": {},
   "source": [
    "酒店评分绘图展示"
   ]
  },
  {
   "cell_type": "code",
   "execution_count": 40,
   "metadata": {
    "scrolled": true
   },
   "outputs": [
    {
     "data": {
      "text/plain": [
       "<matplotlib.axes._subplots.AxesSubplot at 0x7f9af8d8bc50>"
      ]
     },
     "execution_count": 40,
     "metadata": {},
     "output_type": "execute_result"
    },
    {
     "data": {
      "image/png": "[encoded data removed]",
      "text/plain": [
       "<Figure size 432x288 with 1 Axes>"
      ]
     },
     "metadata": {
      "needs_background": "light"
     },
     "output_type": "display_data"
    }
   ],
   "source": [
    "sns.distplot(df['酒店评分'].astype(float), kde = True)"
   ]
  },
  {
   "cell_type": "markdown",
   "metadata": {},
   "source": [
    "酒店评分基本呈正态分布，4分和4.5分的评分记录最多。"
   ]
  },
  {
   "cell_type": "markdown",
   "metadata": {},
   "source": [
    "酒店等级分布图"
   ]
  },
  {
   "cell_type": "code",
   "execution_count": 41,
   "metadata": {},
   "outputs": [
    {
     "data": {
      "text/plain": [
       "<matplotlib.axes._subplots.AxesSubplot at 0x7f9af8ef9c50>"
      ]
     },
     "execution_count": 41,
     "metadata": {},
     "output_type": "execute_result"
    },
    {
     "data": {
      "image/png": "[encoded data removed]",
      "text/plain": [
       "<Figure size 432x288 with 1 Axes>"
      ]
     },
     "metadata": {
      "needs_background": "light"
     },
     "output_type": "display_data"
    }
   ],
   "source": [
    "sns.countplot(df['酒店等级'])"
   ]
  },
  {
   "cell_type": "markdown",
   "metadata": {},
   "source": [
    "出行酒店绝大多数都选择了舒适型。"
   ]
  }
 ],
 "metadata": {
  "kernelspec": {
   "display_name": "Python 3",
   "language": "python",
   "name": "python3"
  },
  "language_info": {
   "codemirror_mode": {
    "name": "ipython",
    "version": 3
   },
   "file_extension": ".py",
   "mimetype": "text/x-python",
   "name": "python",
   "nbconvert_exporter": "python",
   "pygments_lexer": "ipython3",
   "version": "3.7.4"
  },
  "toc": {
   "base_numbering": 1,
   "nav_menu": {},
   "number_sections": true,
   "sideBar": true,
   "skip_h1_title": false,
   "title_cell": "去哪儿网数据清洗",
   "title_sidebar": "去哪儿网数据清洗",
   "toc_cell": true,
   "toc_position": {
    "height": "calc(100% - 180px)",
    "left": "10px",
    "top": "150px",
    "width": "292px"
   },
   "toc_section_display": true,
   "toc_window_display": false
  }
 },
 "nbformat": 4,
 "nbformat_minor": 2
}
